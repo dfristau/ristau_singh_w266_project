{
 "cells": [
  {
   "cell_type": "markdown",
   "id": "29e21df0-bf33-470c-9312-6d29c461f30e",
   "metadata": {},
   "source": [
    "## Use:\n",
    "\n",
    "### This notebook is used to create .csv files that contain augmented data\n",
    "\n",
    "ranked_temporal_train_df.csv - contains data truncated based on least important information, and put back in temporal order\n",
    "\n",
    "ranked_train_df.csv - contains data truncated based on the least important information and ranked by sentance by importance"
   ]
  },
  {
   "cell_type": "markdown",
   "id": "7b95b61a-35c7-4f58-a79f-43c4fcfda65c",
   "metadata": {},
   "source": [
    "### Imports"
   ]
  },
  {
   "cell_type": "code",
   "execution_count": 3,
   "id": "d94d7d18-f3f7-426b-aa07-40def9fc5c80",
   "metadata": {},
   "outputs": [],
   "source": [
    "# imports\n",
    "#import ast # ?\n",
    "import json\n",
    "#import sys # ?\n",
    "#import pickle # ?\n",
    "#from rouge_score import rouge_scorer # dont need\n",
    "#from rouge_score import scoring # dont need\n",
    "import random # need for shuffle and sample (delete when rolled into utils.py)\n",
    "import pandas as pd\n",
    "#import matplotlib.pyplot as plt # dont need\n",
    "#import seaborn as sns # dont need\n",
    "#import numpy as np # ?\n",
    "#import scipy # ?\n",
    "from lexrank import STOPWORDS, LexRank"
   ]
  },
  {
   "cell_type": "markdown",
   "id": "e03849af-d84f-458d-8bed-ae4484242e89",
   "metadata": {},
   "source": [
    "### Load Data"
   ]
  },
  {
   "cell_type": "code",
   "execution_count": 5,
   "id": "1d156045-d20e-4006-9ffa-e131b6a27119",
   "metadata": {},
   "outputs": [],
   "source": [
    "# load in train data in json format\n",
    "with open('json_train.txt') as json_file:\n",
    "    train = json.load(json_file)\n",
    "train = train['data']"
   ]
  },
  {
   "cell_type": "markdown",
   "id": "8539a5da-9bdd-477f-8fa3-c416a97ce973",
   "metadata": {},
   "source": [
    "### Utilitiy Functions"
   ]
  },
  {
   "cell_type": "code",
   "execution_count": 6,
   "id": "18d48cee-05fc-4a65-a932-bd7469eceab5",
   "metadata": {},
   "outputs": [],
   "source": [
    "# useful functions:\n",
    "def to_paragraph(text):\n",
    "    \"\"\"\n",
    "    converts text comprised of lists of sentances to a single to_paragraph\n",
    "\n",
    "    text - list of multiple string sentances\n",
    "\n",
    "    continuous_text - single continuous text string\n",
    "    \"\"\"\n",
    "    continuous_text = ''\n",
    "    for line in text:\n",
    "        continuous_text += line\n",
    "    return continuous_text\n",
    "\n",
    "def shuffle_and_sample(data):\n",
    "    random.seed(42)\n",
    "    random.shuffle(data)\n",
    "    return data[:600]\n",
    "\n",
    "def load_data(path):\n",
    "    with open(path) as f:\n",
    "        contents = f.readlines()\n",
    "    return contents\n",
    "\n",
    "def parse_paper(json_paper):\n",
    "    first_section = to_paragraph(json_paper['sections'][0])\n",
    "    last_section = to_paragraph(json_paper['sections'][-1])\n",
    "    first_n_last = first_section + last_section\n",
    "    return first_n_last\n",
    "\n",
    "def to_json(str_blob):\n",
    "    json_paper = json.loads(str_blob)\n",
    "    return json_paper\n",
    "\n",
    "def to_paragraph(text):\n",
    "    \"\"\"\n",
    "    converts text comprised of lists of sentances to a single to_paragraph\n",
    "\n",
    "    text - list of multiple string sentances\n",
    "\n",
    "    continuous_text - single continuous text string\n",
    "    \"\"\"\n",
    "    continuous_text = ''\n",
    "    for line in text:\n",
    "        continuous_text += line\n",
    "    return continuous_text\n"
   ]
  },
  {
   "cell_type": "markdown",
   "id": "d156fc04-fade-447a-bccc-592c4ad5495b",
   "metadata": {},
   "source": [
    "### Generate truncated and temporally corrected dataframe and save to .csv"
   ]
  },
  {
   "cell_type": "code",
   "execution_count": 7,
   "id": "a33dc5ce-6b98-4d42-90ba-d8a1288aff69",
   "metadata": {},
   "outputs": [],
   "source": [
    "def re_order_temporal(data):\n",
    "    #print('hi 1')\n",
    "    \"\"\"\n",
    "    data - input data in json format with attribute \"article_text\" and \"abstract_text\"\n",
    "    \n",
    "    re_ordered_df - dataframe of schema: text | target, where text is the truncated and temporally corrected text, and the target is the raw abstract\n",
    "    \n",
    "    \"\"\"\n",
    "    documents = [i['article_text'] for i in data]\n",
    "    truncated_df = pd.DataFrame(columns=['text', 'target'])\n",
    "    # instantiate tokenizer and lexranker\n",
    "    lxr = LexRank(documents[:1000], stopwords=STOPWORDS['en'])\n",
    "    #iterate over dataset and assemble dataframe\n",
    "    count = 0\n",
    "    for i in data:\n",
    "        summary = to_paragraph(i['abstract_text'])\n",
    "        # create data frame of schema sentance | rank | order \n",
    "        rank = lxr.rank_sentences(sentences = i['article_text'], threshold=None, fast_power_method=False) # generate list of ranks for each sentance\n",
    "        rank = pd.DataFrame(i['article_text'], rank) # put each sentance in a data frame with corresponding rank\n",
    "        rank.reset_index(inplace=True)  # reset index\n",
    "        rank['order'] = rank.index  # create column to keep track of the order of each sentance\n",
    "        rank.rename({'index':'rank', 0:'sentance'}, inplace=True, axis=1) # rename columns to make sense\n",
    "        #check length of article and select sentance cuttoff start point\n",
    "        approx_len = sum([len(sentance.split(' ')) for sentance in i['article_text']])\n",
    "        if approx_len == 0:\n",
    "            continue\n",
    "        ratio = 4096 / approx_len  # should be something like 0.5 if its 100% oversized used to approximate split point of data to speed up algorithm\n",
    "        sentance_cuttoff = int(len(rank) * ratio) + 10 # attempt to gather extra to pair down as needed (select 10 extra sentances)\n",
    "        # if the article is too long, slice away sentances until it is short enough\n",
    "        while approx_len > 4096:\n",
    "            temp_article = []\n",
    "            # append sentances from sorted rank data frame tp temp_article until the sentance cuttoff is reached (only the most important sentances remain)\n",
    "            for j in rank.sort_values('rank', ascending=False).sentance[:sentance_cuttoff]:\n",
    "                temp_article.append(j)\n",
    "            # check token length of temp_article to see if we have cutt off enough of the document\n",
    "            approx_len = sum([len(sentance.split(' ')) for sentance in temp_article])\n",
    "            # reduce sentance cuttoff by 1\n",
    "            sentance_cuttoff -=1\n",
    "        # when token lenght is satisfied, add record to final dataframe\n",
    "        rank = rank.sort_values('rank', ascending=False)[:sentance_cuttoff] # select only up to cuttoff point\n",
    "        rank.sort_values('order', ascending=True, inplace=True) # implement temporal correction\n",
    "        # re-assemble truncated text and create a single continuous text field\n",
    "        truncated_text = []\n",
    "        for k in rank.sentance:\n",
    "            truncated_text.append(k)\n",
    "        truncated_text = to_paragraph(truncated_text) # truncated text\n",
    "        summary = to_paragraph(i['abstract_text']) # summary\n",
    "        addition = pd.DataFrame([[truncated_text, summary]],columns=['text', 'target'])\n",
    "        truncated_df = truncated_df.append(addition, ignore_index=True)\n",
    "        #print(len(truncated_df))\n",
    "        if count % 100 == 0 and count !=0:\n",
    "            print(f'processed {count} documents')\n",
    "            print(len(truncated_df))\n",
    "        count +=1\n",
    "    return truncated_df"
   ]
  },
  {
   "cell_type": "code",
   "execution_count": 8,
   "id": "eddb1f03-e66a-47f2-a493-8bc2268df22f",
   "metadata": {},
   "outputs": [],
   "source": [
    "# # create df and save as csv\n",
    "# ranked_temporal_train_df = re_order_temporal(train)\n",
    "# ranked_temporal_train_df.to_csv('ranked_temporal_train_df.csv', index=False)"
   ]
  },
  {
   "cell_type": "markdown",
   "id": "19f0d721-cb2c-40a2-a6bc-227770f4f84e",
   "metadata": {},
   "source": [
    "### Generate truncated and ranked dataframe and save to .csv"
   ]
  },
  {
   "cell_type": "code",
   "execution_count": 37,
   "id": "5a31bdc8-17f7-4878-8398-42775fb96ccc",
   "metadata": {},
   "outputs": [],
   "source": [
    "def re_order(data):\n",
    "   #print('hi 1')\n",
    "    \"\"\"\n",
    "    data - input data in json format with attribute \"article_text\" and \"abstract_text\"\n",
    "    \n",
    "    re_ordered_df - dataframe of schema: text | target, where text is the truncated and temporally corrected text, and the target is the raw abstract\n",
    "    \n",
    "    \"\"\"\n",
    "    documents = [i['article_text'] for i in data]\n",
    "    ranked_df = pd.DataFrame(columns=['text', 'target'])\n",
    "    # instantiate tokenizer and lexranker\n",
    "    lxr = LexRank(documents[:1000], stopwords=STOPWORDS['en'])\n",
    "    #iterate over dataset and assemble dataframe\n",
    "    count = 0\n",
    "    for i in data:\n",
    "        summary = to_paragraph(i['abstract_text'])\n",
    "        # create data frame of schema sentance | rank | order \n",
    "        rank = lxr.rank_sentences(sentences = i['article_text'], threshold=None, fast_power_method=False) # generate list of ranks for each sentance\n",
    "        rank = pd.DataFrame(i['article_text'], rank) # put each sentance in a data frame with corresponding rank\n",
    "        rank.reset_index(inplace=True)  # reset index\n",
    "        rank['order'] = rank.index  # create column to keep track of the order of each sentance\n",
    "        rank.rename({'index':'rank', 0:'sentance'}, inplace=True, axis=1) # rename columns to make sense\n",
    "        temp_article = []\n",
    "        # append sentances from sorted rank data frame tp temp_article until the sentance cuttoff is reached (only the most important sentances remain)\n",
    "        if len(rank) != 0:\n",
    "            for j in rank.sort_values('rank', ascending=False).sentance:\n",
    "                temp_article.append(j)\n",
    "        else:\n",
    "            continue\n",
    "        temp_article = to_paragraph(temp_article) \n",
    "        summary = to_paragraph(i['abstract_text']) # summary\n",
    "        addition = pd.DataFrame([[temp_article, summary]],columns=['text', 'target'])\n",
    "        ranked_df = ranked_df.append(addition, ignore_index=True)\n",
    "        #print(len(truncated_df))\n",
    "        if count % 100 == 0 and count !=0:\n",
    "            print(f'processed {count} documents')\n",
    "        count +=1\n",
    "    return ranked_df"
   ]
  },
  {
   "cell_type": "code",
   "execution_count": 40,
   "id": "7dde3617-60ec-42ff-b54d-54bcbf1dcbf6",
   "metadata": {},
   "outputs": [],
   "source": [
    "# load in train data in json format\n",
    "with open('json_test.txt') as json_file:\n",
    "    test = json.load(json_file)\n",
    "test = test['data']"
   ]
  },
  {
   "cell_type": "code",
   "execution_count": 41,
   "id": "6a2b975d-2dcb-4e7d-9ccb-e58b897eb6cd",
   "metadata": {},
   "outputs": [
    {
     "name": "stdout",
     "output_type": "stream",
     "text": [
      "processed 100 documents\n",
      "processed 200 documents\n",
      "processed 300 documents\n",
      "processed 400 documents\n",
      "processed 500 documents\n",
      "processed 600 documents\n",
      "processed 700 documents\n",
      "processed 800 documents\n",
      "processed 900 documents\n",
      "processed 1000 documents\n",
      "processed 1100 documents\n",
      "processed 1200 documents\n",
      "processed 1300 documents\n",
      "processed 1400 documents\n",
      "processed 1500 documents\n",
      "processed 1600 documents\n",
      "processed 1700 documents\n",
      "processed 1800 documents\n",
      "processed 1900 documents\n",
      "processed 2000 documents\n",
      "processed 2100 documents\n",
      "processed 2200 documents\n",
      "processed 2300 documents\n",
      "processed 2400 documents\n",
      "processed 2500 documents\n",
      "processed 2600 documents\n",
      "processed 2700 documents\n",
      "processed 2800 documents\n",
      "processed 2900 documents\n",
      "processed 3000 documents\n",
      "processed 3100 documents\n",
      "processed 3200 documents\n",
      "processed 3300 documents\n",
      "processed 3400 documents\n",
      "processed 3500 documents\n",
      "processed 3600 documents\n",
      "processed 3700 documents\n",
      "processed 3800 documents\n",
      "processed 3900 documents\n",
      "processed 4000 documents\n",
      "processed 4100 documents\n",
      "processed 4200 documents\n",
      "processed 4300 documents\n",
      "processed 4400 documents\n",
      "processed 4500 documents\n",
      "processed 4600 documents\n",
      "processed 4700 documents\n",
      "processed 4800 documents\n",
      "processed 4900 documents\n",
      "processed 5000 documents\n",
      "processed 5100 documents\n",
      "processed 5200 documents\n",
      "processed 5300 documents\n",
      "processed 5400 documents\n",
      "processed 5500 documents\n",
      "processed 5600 documents\n",
      "processed 5700 documents\n",
      "processed 5800 documents\n",
      "processed 5900 documents\n",
      "processed 6000 documents\n",
      "processed 6100 documents\n",
      "processed 6200 documents\n",
      "processed 6300 documents\n",
      "processed 6400 documents\n",
      "processed 6500 documents\n",
      "processed 6600 documents\n"
     ]
    }
   ],
   "source": [
    "# create df and save as csv\n",
    "ranked_test_df = re_order(test)\n",
    "ranked_test_df.to_csv('ranked_test_df.csv', index=False)"
   ]
  },
  {
   "cell_type": "code",
   "execution_count": 42,
   "id": "2b4a1465-2bca-4696-93e3-90e04a283ddc",
   "metadata": {},
   "outputs": [],
   "source": [
    "ranked_test_df.to_json('ranked_test.json')"
   ]
  },
  {
   "cell_type": "code",
   "execution_count": null,
   "id": "7f723aa4-e939-4e5f-951a-2b118efc631c",
   "metadata": {},
   "outputs": [],
   "source": []
  },
  {
   "cell_type": "code",
   "execution_count": 12,
   "id": "41136f70-8df6-4e84-a3b5-3f78299e08fa",
   "metadata": {},
   "outputs": [],
   "source": [
    "ranked_train_df = pd.read_csv('ranked_train_df.csv')"
   ]
  },
  {
   "cell_type": "code",
   "execution_count": 14,
   "id": "851bad1b-e3c6-46fe-8946-d5de404ed15a",
   "metadata": {},
   "outputs": [],
   "source": [
    "ranked_pt1 = ranked_train_df[:60000]\n",
    "ranked_pt2 = ranked_train_df[60000:]\n",
    "\n",
    "ranked_pt1.to_json('ranked_train_pt1.json')\n",
    "ranked_pt2.to_json('ranked_train_pt2.json')"
   ]
  },
  {
   "cell_type": "code",
   "execution_count": null,
   "id": "9ed50090-4dd4-47a1-a9e3-65f72ac9f480",
   "metadata": {},
   "outputs": [],
   "source": []
  }
 ],
 "metadata": {
  "environment": {
   "kernel": "python3",
   "name": "pytorch-gpu.1-9.m82",
   "type": "gcloud",
   "uri": "gcr.io/deeplearning-platform-release/pytorch-gpu.1-9:m82"
  },
  "kernelspec": {
   "display_name": "Python 3",
   "language": "python",
   "name": "python3"
  },
  "language_info": {
   "codemirror_mode": {
    "name": "ipython",
    "version": 3
   },
   "file_extension": ".py",
   "mimetype": "text/x-python",
   "name": "python",
   "nbconvert_exporter": "python",
   "pygments_lexer": "ipython3",
   "version": "3.7.10"
  }
 },
 "nbformat": 4,
 "nbformat_minor": 5
}
