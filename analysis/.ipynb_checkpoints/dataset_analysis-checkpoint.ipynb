{
 "cells": [
  {
   "cell_type": "code",
   "execution_count": 1,
   "id": "4ae85c20-99c1-4c4a-835a-f9cfe15e8a75",
   "metadata": {},
   "outputs": [],
   "source": [
    "import sys\n",
    "import ast\n",
    "import json\n",
    "from transformers import BigBirdPegasusForConditionalGeneration, AutoTokenizer\n",
    "import sys\n",
    "import pickle\n",
    "from rouge_score import rouge_scorer\n",
    "from rouge_score import scoring\n",
    "import random\n",
    "import pandas as pd\n",
    "import matplotlib.pyplot as plt\n",
    "import seaborn as sns\n",
    "import numpy as np\n",
    "import scipy"
   ]
  },
  {
   "cell_type": "code",
   "execution_count": 2,
   "id": "789c2d27-01fb-42e1-a327-d0c628eb0ae0",
   "metadata": {},
   "outputs": [],
   "source": [
    "# useful functions:\n",
    "def to_paragraph(text):\n",
    "    \"\"\"\n",
    "    converts text comprised of lists of sentances to a single to_paragraph\n",
    "\n",
    "    text - list of multiple string sentances\n",
    "\n",
    "    continuous_text - single continuous text string\n",
    "    \"\"\"\n",
    "    continuous_text = ''\n",
    "    for line in text:\n",
    "        continuous_text += line\n",
    "    return continuous_text\n",
    "\n",
    "def shuffle_and_sample(data):\n",
    "    random.seed(42)\n",
    "    random.shuffle(data)\n",
    "    return data[:600]\n",
    "\n",
    "def load_data(path):\n",
    "    with open(path) as f:\n",
    "        contents = f.readlines()\n",
    "    return contents\n",
    "\n",
    "def parse_paper(json_paper):\n",
    "    first_section = to_paragraph(json_paper['sections'][0])\n",
    "    last_section = to_paragraph(json_paper['sections'][-1])\n",
    "    first_n_last = first_section + last_section\n",
    "    return first_n_last\n",
    "\n",
    "def to_json(str_blob):\n",
    "    json_paper = json.loads(str_blob)\n",
    "    return json_paper\n",
    "\n",
    "def to_paragraph(text):\n",
    "    \"\"\"\n",
    "    converts text comprised of lists of sentances to a single to_paragraph\n",
    "\n",
    "    text - list of multiple string sentances\n",
    "\n",
    "    continuous_text - single continuous text string\n",
    "    \"\"\"\n",
    "    continuous_text = ''\n",
    "    for line in text:\n",
    "        continuous_text += line\n",
    "    return continuous_text\n"
   ]
  },
  {
   "cell_type": "code",
   "execution_count": 3,
   "id": "0c054e72-4e99-412b-abce-59fc8637c85e",
   "metadata": {},
   "outputs": [],
   "source": [
    "# json_train = []\n",
    "# for i in train:\n",
    "#     json_train.append(to_json(i))\n",
    "# json_train_formatted = {'data': json_train}"
   ]
  },
  {
   "cell_type": "code",
   "execution_count": 4,
   "id": "393e37ca-08f2-44d4-a5de-0aeef0ee3fa8",
   "metadata": {},
   "outputs": [],
   "source": [
    "#with open('json_train.txt', 'w') as outfile:\n",
    "#    json.dump(data, outfile)"
   ]
  },
  {
   "cell_type": "code",
   "execution_count": null,
   "id": "8d6a4d4b-e64e-4f7e-9ab9-38958180ba58",
   "metadata": {},
   "outputs": [],
   "source": [
    "# load in train data in json format\n",
    "with open('json_train.txt') as json_file:\n",
    "    train = json.load(json_file)\n",
    "train = train['data']"
   ]
  },
  {
   "cell_type": "code",
   "execution_count": 4,
   "id": "cc1da51d-31ea-47bd-b594-9d5f3e488e1c",
   "metadata": {},
   "outputs": [],
   "source": [
    "# create dictionary of section names, and their occurance counts \n",
    "section_name_counts = {}\n",
    "for file in train:\n",
    "    for section_name in file['section_names']:\n",
    "        if section_name.lower() in section_name_counts.keys():\n",
    "            section_name_counts[section_name.lower()] += 1\n",
    "        else:\n",
    "            section_name_counts[section_name.lower()] = 1\n",
    "section_names = pd.DataFrame.from_dict(section_name_counts, orient='index')"
   ]
  },
  {
   "cell_type": "markdown",
   "id": "178e0ea1-fbef-4978-865b-96c754cf1ca6",
   "metadata": {},
   "source": [
    "# Section names analysis:\n",
    "below are a series of questions, and their answers aimed to provide insight into the structure of the documents included in this dataset"
   ]
  },
  {
   "cell_type": "code",
   "execution_count": 5,
   "id": "c78bb134-d415-4e43-9e3b-2dfca532d1d8",
   "metadata": {},
   "outputs": [
    {
     "data": {
      "text/plain": [
       "119924"
      ]
     },
     "execution_count": 5,
     "metadata": {},
     "output_type": "execute_result"
    }
   ],
   "source": [
    "# how many documents are in the training set?\n",
    "len(train)"
   ]
  },
  {
   "cell_type": "code",
   "execution_count": 8,
   "id": "d32b0c24-cba5-4da2-9bbe-daab848747e9",
   "metadata": {},
   "outputs": [
    {
     "name": "stderr",
     "output_type": "stream",
     "text": [
      "Token indices sequence length is longer than the specified maximum sequence length for this model (5520 > 4096). Running this sequence through the model will result in indexing errors\n"
     ]
    },
    {
     "name": "stdout",
     "output_type": "stream",
     "text": [
      "Mean token length: 3892.5076965411426\n",
      "token lenght std: 3844.101321871635\n"
     ]
    }
   ],
   "source": [
    "# # what is the average token length of each document?\n",
    "# #LONG RUN TIME\n",
    "# token_lengths = []\n",
    "# tokenizer = AutoTokenizer.from_pretrained(\"google/bigbird-pegasus-large-pubmed\")\n",
    "# for i in train:\n",
    "#     length = tokenizer(i['article_text'],is_split_into_words=True, return_tensors='pt', truncation=False)\n",
    "#     token_lengths.append((i['article_id'],len(length[0])))\n",
    "# lengths = np.array([i[1] for i in token_lengths])\n",
    "# print(f'Mean token length: {lengths.mean()}')\n",
    "# print(f'token lenght std: {lengths.std()}')"
   ]
  },
  {
   "cell_type": "code",
   "execution_count": 201,
   "id": "895cb73e-dae6-4b18-927b-dbfa972861f1",
   "metadata": {},
   "outputs": [],
   "source": [
    "#  save token_lenghts to speed up future analysis\n",
    "# token_lengths_dic = {\"data\": token_lengths}\n",
    "# with open('train_token_lengths.txt', 'w') as outfile:\n",
    "#     json.dump(token_lengths_dic, outfile)"
   ]
  },
  {
   "cell_type": "code",
   "execution_count": 6,
   "id": "5a64f11e-a788-4b38-be5d-f4ea547c8e83",
   "metadata": {},
   "outputs": [],
   "source": [
    "# read in token_lengths:\n",
    "with open('train_token_lengths.txt') as json_file:\n",
    "    token_lengths = json.load(json_file)\n",
    "token_lengths = token_lengths[\"data\"] # get in list format"
   ]
  },
  {
   "cell_type": "code",
   "execution_count": 7,
   "id": "829c51ca-29c5-4ce0-9c3d-b3ad00f779b5",
   "metadata": {},
   "outputs": [
    {
     "name": "stdout",
     "output_type": "stream",
     "text": [
      "number of documents in training set > 4096: 43390\n",
      "percentage of training set > 4096: 36.18124812381175%\n"
     ]
    }
   ],
   "source": [
    "# what percentage of the documents will require some form of truncation?\n",
    "# dependent on above cell (with long runtime)\n",
    "lengths = np.array([i[1] for i in token_lengths])\n",
    "condition = (lengths > 4096)\n",
    "print(f'number of documents in training set > 4096: {len(np.extract(condition, token_lengths))}')\n",
    "print(f'percentage of training set > 4096: {(len(np.extract(condition, token_lengths))/len(token_lengths))*100}%')"
   ]
  },
  {
   "cell_type": "code",
   "execution_count": 15,
   "id": "550c2c16-25f1-49d9-80b1-0fc2927b4c2a",
   "metadata": {},
   "outputs": [
    {
     "name": "stdout",
     "output_type": "stream",
     "text": [
      "Mean oversized length: 7578.26\n",
      "Oversized length std: 3062.513006078505\n",
      "Mean undersized length: 1759.6\n",
      "Undersized length std: 899.3329083270555\n"
     ]
    },
    {
     "name": "stderr",
     "output_type": "stream",
     "text": [
      "Attention type 'block_sparse' is not possible if sequence_length: 1 <= num global tokens: 2 * config.block_size + min. num sliding tokens: 3 * config.block_size + config.num_random_blocks * config.block_size + additional buffer: config.num_random_blocks * config.block_size = 704 with config.block_size = 64, config.num_random_blocks = 3. Changing attention type to 'original_full'...\n"
     ]
    },
    {
     "name": "stdout",
     "output_type": "stream",
     "text": [
      "Completed long document evaluation\n",
      "{'rouge1': AggregateScore(low=Score(precision=0.5358372101391204, recall=0.41174391636805857, fmeasure=0.46472973099192594), mid=Score(precision=0.5694981235509651, recall=0.4430035518621773, fmeasure=0.48459807726796944), high=Score(precision=0.6073082897075374, recall=0.4710115826878888, fmeasure=0.5067548196745839)), 'rouge2': AggregateScore(low=Score(precision=0.22069857585306074, recall=0.1656510188410719, fmeasure=0.18602821089039187), mid=Score(precision=0.2557971412943394, recall=0.19168538451646738, fmeasure=0.21334251343768112), high=Score(precision=0.29553411570091437, recall=0.22139034933880566, fmeasure=0.24645366541797947)), 'rougeLsum': AggregateScore(low=Score(precision=0.31575971365641414, recall=0.24308894834461933, fmeasure=0.26965084706893655), mid=Score(precision=0.3513508966173041, recall=0.2722345157919235, fmeasure=0.2989460874976587), high=Score(precision=0.38515948304542486, recall=0.30489515090273445, fmeasure=0.3267502959653542))}\n",
      "Completed long document evaluation\n",
      "{'rouge1': AggregateScore(low=Score(precision=0.5230727557557333, recall=0.4134351525483455, fmeasure=0.4449556129191329), mid=Score(precision=0.5556393077080232, recall=0.44088668530254205, fmeasure=0.4707461923712227), high=Score(precision=0.5880763867485589, recall=0.46750748173501583, fmeasure=0.49460918884140337)), 'rouge2': AggregateScore(low=Score(precision=0.2382343067748605, recall=0.18346022535519682, fmeasure=0.20062636578545792), mid=Score(precision=0.27511196532389487, recall=0.20961837117408327, fmeasure=0.2296561718634145), high=Score(precision=0.3158065086218481, recall=0.23905288309659897, fmeasure=0.2619145892814469)), 'rougeLsum': AggregateScore(low=Score(precision=0.3358762199261422, recall=0.26470582951979343, fmeasure=0.2829827002541009), mid=Score(precision=0.37074067716326203, recall=0.2915141161560052, fmeasure=0.31321449489644626), high=Score(precision=0.4095940632378642, recall=0.32055060475927766, fmeasure=0.3438641343076291))}\n"
     ]
    }
   ],
   "source": [
    "# # how much does truncation actualy impact the quality of the summarization if it is done simply (first 4096 tokens)?\n",
    "# # randomly select 50 documents that are significantly longer than 4096 (choose 5000 arbitrarily)\n",
    "# oversized_docs = []\n",
    "# undersized_docs = []\n",
    "# j = 0\n",
    "# for i in token_lengths:\n",
    "#     # want documents significantly over sized (arbitrarily choose 5000)\n",
    "#     if i[1] >= 5000:\n",
    "#         oversized_docs.append((j, i[0]))\n",
    "#     elif i[1] <= 3000:\n",
    "#         undersized_docs.append((j, i[0]))\n",
    "#     j += 1\n",
    "\n",
    "# def sample(indexes, token_lengths, n=50, print_stats=True):\n",
    "#     \"\"\"\n",
    "#     indexes - list of tuples (document index, document id)\n",
    "#     n - int (number of indexes to sample)\n",
    "#     token_lengths - list of tuples (article id, token length)\n",
    "#     print_stats - boolean\n",
    "    \n",
    "#     returns - list of randomly selected tuples (document index, document id)\n",
    "#     \"\"\"\n",
    "#     random.seed(42)\n",
    "#     random.shuffle(indexes)\n",
    "#     selection = indexes[:n]\n",
    "#     if print_stats:\n",
    "#         lengths = np.array([token_lengths[i[0]][1] for i in selection])\n",
    "#         if lengths[0] >= 5000:\n",
    "#             print(f'Mean oversized length: {lengths.mean()}')\n",
    "#             print(f'Oversized length std: {lengths.std()}')\n",
    "#         elif lengths[0] <= 3000:\n",
    "#             print(f'Mean undersized length: {lengths.mean()}')\n",
    "#             print(f'Undersized length std: {lengths.std()}')\n",
    "#     return selection\n",
    "    \n",
    "# # randomly select 50 documents that are significantly longer than 4096 (choose 5000 arbitrarily)\n",
    "# long_docs = sample(oversized_docs, token_lengths)\n",
    "# # randomly select 50 documents that are significantly shorter than 4096 (choose 3000 arbitrarily)\n",
    "# short_docs = sample(undersized_docs, token_lengths)\n",
    "\n",
    "# # evaluate both groups of documents and compare results\n",
    "# # start with longer documents (select first 4096 characters)\n",
    "# long_doc_results = {}\n",
    "# tokenizer = AutoTokenizer.from_pretrained(\"google/bigbird-pegasus-large-pubmed\")\n",
    "# model = BigBirdPegasusForConditionalGeneration.from_pretrained(\"google/bigbird-pegasus-large-pubmed\")\n",
    "# scorer = rouge_scorer.RougeScorer([\"rouge1\", \"rouge2\", \"rougeLsum\"], use_stemmer=True)\n",
    "# aggregator = scoring.BootstrapAggregator()\n",
    "# for paper in long_docs:\n",
    "#     document = train[paper[0]]\n",
    "#     input = tokenizer(document['article_text'], return_tensors='pt', is_split_into_words=True, max_length=4096, truncation=True)\n",
    "#     prediction = model.generate(**input)\n",
    "#     prediction = tokenizer.batch_decode(prediction)\n",
    "#     reference = to_paragraph(document['abstract_text'])\n",
    "#     score = scorer.score(reference, prediction[0])\n",
    "#     aggregator.add_scores(score)\n",
    "#     ag_score = aggregator.aggregate()\n",
    "#     long_doc_results[paper[1]] = score\n",
    "# long_ag_score = ag_score\n",
    "# print('Completed long document evaluation')\n",
    "# print(long_ag_score)\n",
    "# short_doc_results = {}\n",
    "# for paper in short_docs:\n",
    "#     document = train[paper[0]]\n",
    "#     input = tokenizer(document['article_text'], return_tensors='pt', is_split_into_words=True, max_length=4096, truncation=True)\n",
    "#     prediction = model.generate(**input)\n",
    "#     prediction = tokenizer.batch_decode(prediction)\n",
    "#     reference = to_paragraph(document['abstract_text'])\n",
    "#     score = scorer.score(reference, prediction[0])\n",
    "#     aggregator.add_scores(score)\n",
    "#     ag_score = aggregator.aggregate()\n",
    "#     short_doc_results[paper[1]] = score\n",
    "# short_ag_score = ag_score\n",
    "# print('Completed long document evaluation')\n",
    "# print(short_ag_score)"
   ]
  },
  {
   "cell_type": "markdown",
   "id": "c4485293-a367-420f-8405-d5fc3dbda204",
   "metadata": {},
   "source": [
    "Completed long document evaluation\n",
    "{'rouge1': AggregateScore(low=Score(precision=0.5358372101391204, recall=0.41174391636805857, fmeasure=0.46472973099192594), mid=Score(precision=0.5694981235509651, recall=0.4430035518621773, fmeasure=0.48459807726796944), high=Score(precision=0.6073082897075374, recall=0.4710115826878888, fmeasure=0.5067548196745839)), 'rouge2': AggregateScore(low=Score(precision=0.22069857585306074, recall=0.1656510188410719, fmeasure=0.18602821089039187), mid=Score(precision=0.2557971412943394, recall=0.19168538451646738, fmeasure=0.21334251343768112), high=Score(precision=0.29553411570091437, recall=0.22139034933880566, fmeasure=0.24645366541797947)), 'rougeLsum': AggregateScore(low=Score(precision=0.31575971365641414, recall=0.24308894834461933, fmeasure=0.26965084706893655), mid=Score(precision=0.3513508966173041, recall=0.2722345157919235, fmeasure=0.2989460874976587), high=Score(precision=0.38515948304542486, recall=0.30489515090273445, fmeasure=0.3267502959653542))}\n",
    "Completed long document evaluation\n",
    "{'rouge1': AggregateScore(low=Score(precision=0.5230727557557333, recall=0.4134351525483455, fmeasure=0.4449556129191329), mid=Score(precision=0.5556393077080232, recall=0.44088668530254205, fmeasure=0.4707461923712227), high=Score(precision=0.5880763867485589, recall=0.46750748173501583, fmeasure=0.49460918884140337)), 'rouge2': AggregateScore(low=Score(precision=0.2382343067748605, recall=0.18346022535519682, fmeasure=0.20062636578545792), mid=Score(precision=0.27511196532389487, recall=0.20961837117408327, fmeasure=0.2296561718634145), high=Score(precision=0.3158065086218481, recall=0.23905288309659897, fmeasure=0.2619145892814469)), 'rougeLsum': AggregateScore(low=Score(precision=0.3358762199261422, recall=0.26470582951979343, fmeasure=0.2829827002541009), mid=Score(precision=0.37074067716326203, recall=0.2915141161560052, fmeasure=0.31321449489644626), high=Score(precision=0.4095940632378642, recall=0.32055060475927766, fmeasure=0.3438641343076291))}"
   ]
  },
  {
   "cell_type": "code",
   "execution_count": 16,
   "id": "4d3cea24-bfa1-4c97-8560-488d31f9fa23",
   "metadata": {},
   "outputs": [],
   "source": [
    "# with open(\"long_doc_results.txt\", 'w') as outfile:\n",
    "#     json.dump(long_doc_results, outfile)\n",
    "    \n",
    "# with open(\"short_doc_results.txt\", 'w') as outfile:\n",
    "#     json.dump(short_doc_results, outfile)"
   ]
  },
  {
   "cell_type": "code",
   "execution_count": 10,
   "id": "354f13e0-8330-4190-819b-d7a98c93e0d5",
   "metadata": {},
   "outputs": [
    {
     "data": {
      "text/html": [
       "<div>\n",
       "<style scoped>\n",
       "    .dataframe tbody tr th:only-of-type {\n",
       "        vertical-align: middle;\n",
       "    }\n",
       "\n",
       "    .dataframe tbody tr th {\n",
       "        vertical-align: top;\n",
       "    }\n",
       "\n",
       "    .dataframe thead th {\n",
       "        text-align: right;\n",
       "    }\n",
       "</style>\n",
       "<table border=\"1\" class=\"dataframe\">\n",
       "  <thead>\n",
       "    <tr style=\"text-align: right;\">\n",
       "      <th></th>\n",
       "      <th>article_id</th>\n",
       "      <th>rouge1</th>\n",
       "      <th>rouge2</th>\n",
       "      <th>rougeLsum</th>\n",
       "      <th>rouge_1_f1</th>\n",
       "      <th>rouge_1_recall</th>\n",
       "      <th>rouge_1_precision</th>\n",
       "      <th>rouge_2_f1</th>\n",
       "      <th>rouge_2_recall</th>\n",
       "      <th>rouge_2_precision</th>\n",
       "      <th>rouge_lsum_f1</th>\n",
       "      <th>rouge_lsum_recall</th>\n",
       "      <th>rouge_lsum_precision</th>\n",
       "      <th>length</th>\n",
       "    </tr>\n",
       "  </thead>\n",
       "  <tbody>\n",
       "    <tr>\n",
       "      <th>0</th>\n",
       "      <td>PMC2892609</td>\n",
       "      <td>[0.4, 0.357487922705314, 0.37755102040816324]</td>\n",
       "      <td>[0.10869565217391304, 0.0970873786407767, 0.10...</td>\n",
       "      <td>[0.1891891891891892, 0.16908212560386474, 0.17...</td>\n",
       "      <td>0.377551</td>\n",
       "      <td>0.357488</td>\n",
       "      <td>0.400000</td>\n",
       "      <td>0.102564</td>\n",
       "      <td>0.097087</td>\n",
       "      <td>0.108696</td>\n",
       "      <td>0.178571</td>\n",
       "      <td>0.169082</td>\n",
       "      <td>0.189189</td>\n",
       "      <td>5004</td>\n",
       "    </tr>\n",
       "    <tr>\n",
       "      <th>1</th>\n",
       "      <td>PMC5278557</td>\n",
       "      <td>[0.5300546448087432, 0.305993690851735, 0.388]</td>\n",
       "      <td>[0.14285714285714285, 0.08227848101265822, 0.1...</td>\n",
       "      <td>[0.20218579234972678, 0.1167192429022082, 0.148]</td>\n",
       "      <td>0.388000</td>\n",
       "      <td>0.305994</td>\n",
       "      <td>0.530055</td>\n",
       "      <td>0.104418</td>\n",
       "      <td>0.082278</td>\n",
       "      <td>0.142857</td>\n",
       "      <td>0.148000</td>\n",
       "      <td>0.116719</td>\n",
       "      <td>0.202186</td>\n",
       "      <td>8383</td>\n",
       "    </tr>\n",
       "    <tr>\n",
       "      <th>2</th>\n",
       "      <td>PMC4392444</td>\n",
       "      <td>[0.7, 0.40893470790378006, 0.5162689804772234]</td>\n",
       "      <td>[0.2781065088757396, 0.16206896551724137, 0.20...</td>\n",
       "      <td>[0.3941176470588235, 0.23024054982817868, 0.29...</td>\n",
       "      <td>0.516269</td>\n",
       "      <td>0.408935</td>\n",
       "      <td>0.700000</td>\n",
       "      <td>0.204793</td>\n",
       "      <td>0.162069</td>\n",
       "      <td>0.278107</td>\n",
       "      <td>0.290672</td>\n",
       "      <td>0.230241</td>\n",
       "      <td>0.394118</td>\n",
       "      <td>6211</td>\n",
       "    </tr>\n",
       "    <tr>\n",
       "      <th>3</th>\n",
       "      <td>PMC4362959</td>\n",
       "      <td>[0.50920245398773, 0.49700598802395207, 0.5030...</td>\n",
       "      <td>[0.19135802469135801, 0.18674698795180722, 0.1...</td>\n",
       "      <td>[0.3128834355828221, 0.30538922155688625, 0.30...</td>\n",
       "      <td>0.503030</td>\n",
       "      <td>0.497006</td>\n",
       "      <td>0.509202</td>\n",
       "      <td>0.189024</td>\n",
       "      <td>0.186747</td>\n",
       "      <td>0.191358</td>\n",
       "      <td>0.309091</td>\n",
       "      <td>0.305389</td>\n",
       "      <td>0.312883</td>\n",
       "      <td>9547</td>\n",
       "    </tr>\n",
       "    <tr>\n",
       "      <th>4</th>\n",
       "      <td>PMC5367514</td>\n",
       "      <td>[0.7839506172839507, 0.3670520231213873, 0.5]</td>\n",
       "      <td>[0.4906832298136646, 0.2289855072463768, 0.312...</td>\n",
       "      <td>[0.5, 0.23410404624277456, 0.3188976377952756]</td>\n",
       "      <td>0.500000</td>\n",
       "      <td>0.367052</td>\n",
       "      <td>0.783951</td>\n",
       "      <td>0.312253</td>\n",
       "      <td>0.228986</td>\n",
       "      <td>0.490683</td>\n",
       "      <td>0.318898</td>\n",
       "      <td>0.234104</td>\n",
       "      <td>0.500000</td>\n",
       "      <td>10113</td>\n",
       "    </tr>\n",
       "  </tbody>\n",
       "</table>\n",
       "</div>"
      ],
      "text/plain": [
       "   article_id                                             rouge1  \\\n",
       "0  PMC2892609      [0.4, 0.357487922705314, 0.37755102040816324]   \n",
       "1  PMC5278557     [0.5300546448087432, 0.305993690851735, 0.388]   \n",
       "2  PMC4392444     [0.7, 0.40893470790378006, 0.5162689804772234]   \n",
       "3  PMC4362959  [0.50920245398773, 0.49700598802395207, 0.5030...   \n",
       "4  PMC5367514      [0.7839506172839507, 0.3670520231213873, 0.5]   \n",
       "\n",
       "                                              rouge2  \\\n",
       "0  [0.10869565217391304, 0.0970873786407767, 0.10...   \n",
       "1  [0.14285714285714285, 0.08227848101265822, 0.1...   \n",
       "2  [0.2781065088757396, 0.16206896551724137, 0.20...   \n",
       "3  [0.19135802469135801, 0.18674698795180722, 0.1...   \n",
       "4  [0.4906832298136646, 0.2289855072463768, 0.312...   \n",
       "\n",
       "                                           rougeLsum  rouge_1_f1  \\\n",
       "0  [0.1891891891891892, 0.16908212560386474, 0.17...    0.377551   \n",
       "1   [0.20218579234972678, 0.1167192429022082, 0.148]    0.388000   \n",
       "2  [0.3941176470588235, 0.23024054982817868, 0.29...    0.516269   \n",
       "3  [0.3128834355828221, 0.30538922155688625, 0.30...    0.503030   \n",
       "4     [0.5, 0.23410404624277456, 0.3188976377952756]    0.500000   \n",
       "\n",
       "   rouge_1_recall  rouge_1_precision  rouge_2_f1  rouge_2_recall  \\\n",
       "0        0.357488           0.400000    0.102564        0.097087   \n",
       "1        0.305994           0.530055    0.104418        0.082278   \n",
       "2        0.408935           0.700000    0.204793        0.162069   \n",
       "3        0.497006           0.509202    0.189024        0.186747   \n",
       "4        0.367052           0.783951    0.312253        0.228986   \n",
       "\n",
       "   rouge_2_precision  rouge_lsum_f1  rouge_lsum_recall  rouge_lsum_precision  \\\n",
       "0           0.108696       0.178571           0.169082              0.189189   \n",
       "1           0.142857       0.148000           0.116719              0.202186   \n",
       "2           0.278107       0.290672           0.230241              0.394118   \n",
       "3           0.191358       0.309091           0.305389              0.312883   \n",
       "4           0.490683       0.318898           0.234104              0.500000   \n",
       "\n",
       "   length  \n",
       "0    5004  \n",
       "1    8383  \n",
       "2    6211  \n",
       "3    9547  \n",
       "4   10113  "
      ]
     },
     "execution_count": 10,
     "metadata": {},
     "output_type": "execute_result"
    }
   ],
   "source": [
    "# load long documents into data frame\n",
    "with open('long_doc_results.txt') as json_file:\n",
    "    long_doc_results = json.load(json_file)\n",
    "    \n",
    "long_df = pd.DataFrame.from_dict(long_doc_results, orient='index') # import data into pandas\n",
    "\n",
    "# UDFs to unpack values\n",
    "def unpack_f1(line, index=2):\n",
    "    return line[index]\n",
    "def unpack_precision(line, index=0):\n",
    "    return line[index]\n",
    "def unpack_recall(line, index=1):\n",
    "    return line[index]\n",
    "# UDF to get length\n",
    "def get_length(index, token_lengths=token_lengths):\n",
    "    length = None\n",
    "    for i in token_lengths:\n",
    "        if i[0] == index:\n",
    "            length = i[1]\n",
    "            return length\n",
    "\n",
    "# unpack values into individual columns\n",
    "long_df['rouge_1_f1'] = long_df.rouge1.apply(unpack_f1)\n",
    "long_df['rouge_1_recall'] = long_df.rouge1.apply(unpack_recall)\n",
    "long_df['rouge_1_precision'] = long_df.rouge1.apply(unpack_precision)\n",
    "long_df['rouge_2_f1'] = long_df.rouge2.apply(unpack_f1)\n",
    "long_df['rouge_2_recall'] = long_df.rouge2.apply(unpack_recall)\n",
    "long_df['rouge_2_precision'] = long_df.rouge2.apply(unpack_precision)\n",
    "long_df['rouge_lsum_f1'] = long_df.rougeLsum.apply(unpack_f1)\n",
    "long_df['rouge_lsum_recall'] = long_df.rougeLsum.apply(unpack_recall)\n",
    "long_df['rouge_lsum_precision'] = long_df.rougeLsum.apply(unpack_precision)\n",
    "\n",
    "# reset index and rename article id field\n",
    "long_df.reset_index(inplace=True)\n",
    "long_df.rename({'index':'article_id'},axis=1, inplace=True)\n",
    "# add length\n",
    "long_df['length'] = long_df.article_id.apply(get_length)\n",
    "long_df.head()"
   ]
  },
  {
   "cell_type": "code",
   "execution_count": 11,
   "id": "3a884938-be76-4536-ad35-2b6fe5146d93",
   "metadata": {},
   "outputs": [
    {
     "data": {
      "text/html": [
       "<div>\n",
       "<style scoped>\n",
       "    .dataframe tbody tr th:only-of-type {\n",
       "        vertical-align: middle;\n",
       "    }\n",
       "\n",
       "    .dataframe tbody tr th {\n",
       "        vertical-align: top;\n",
       "    }\n",
       "\n",
       "    .dataframe thead th {\n",
       "        text-align: right;\n",
       "    }\n",
       "</style>\n",
       "<table border=\"1\" class=\"dataframe\">\n",
       "  <thead>\n",
       "    <tr style=\"text-align: right;\">\n",
       "      <th></th>\n",
       "      <th>article_id</th>\n",
       "      <th>rouge1</th>\n",
       "      <th>rouge2</th>\n",
       "      <th>rougeLsum</th>\n",
       "      <th>rouge_1_f1</th>\n",
       "      <th>rouge_1_recall</th>\n",
       "      <th>rouge_1_precision</th>\n",
       "      <th>rouge_2_f1</th>\n",
       "      <th>rouge_2_recall</th>\n",
       "      <th>rouge_2_precision</th>\n",
       "      <th>rouge_lsum_f1</th>\n",
       "      <th>rouge_lsum_recall</th>\n",
       "      <th>rouge_lsum_precision</th>\n",
       "      <th>length</th>\n",
       "    </tr>\n",
       "  </thead>\n",
       "  <tbody>\n",
       "    <tr>\n",
       "      <th>0</th>\n",
       "      <td>PMC3942098</td>\n",
       "      <td>[0.34, 0.07264957264957266, 0.11971830985915494]</td>\n",
       "      <td>[0.061224489795918366, 0.012875536480686695, 0...</td>\n",
       "      <td>[0.24, 0.05128205128205128, 0.08450704225352113]</td>\n",
       "      <td>0.119718</td>\n",
       "      <td>0.072650</td>\n",
       "      <td>0.340000</td>\n",
       "      <td>0.021277</td>\n",
       "      <td>0.012876</td>\n",
       "      <td>0.061224</td>\n",
       "      <td>0.084507</td>\n",
       "      <td>0.051282</td>\n",
       "      <td>0.240000</td>\n",
       "      <td>1</td>\n",
       "    </tr>\n",
       "    <tr>\n",
       "      <th>1</th>\n",
       "      <td>PMC3671636</td>\n",
       "      <td>[0.23, 0.4107142857142857, 0.2948717948717949]</td>\n",
       "      <td>[0.010101010101010102, 0.01818181818181818, 0....</td>\n",
       "      <td>[0.16, 0.2857142857142857, 0.20512820512820512]</td>\n",
       "      <td>0.294872</td>\n",
       "      <td>0.410714</td>\n",
       "      <td>0.230000</td>\n",
       "      <td>0.012987</td>\n",
       "      <td>0.018182</td>\n",
       "      <td>0.010101</td>\n",
       "      <td>0.205128</td>\n",
       "      <td>0.285714</td>\n",
       "      <td>0.160000</td>\n",
       "      <td>2618</td>\n",
       "    </tr>\n",
       "    <tr>\n",
       "      <th>2</th>\n",
       "      <td>PMC3323367</td>\n",
       "      <td>[0.5263157894736842, 0.47619047619047616, 0.5]</td>\n",
       "      <td>[0.16071428571428573, 0.14516129032258066, 0.1...</td>\n",
       "      <td>[0.2982456140350877, 0.2698412698412698, 0.283...</td>\n",
       "      <td>0.500000</td>\n",
       "      <td>0.476190</td>\n",
       "      <td>0.526316</td>\n",
       "      <td>0.152542</td>\n",
       "      <td>0.145161</td>\n",
       "      <td>0.160714</td>\n",
       "      <td>0.283333</td>\n",
       "      <td>0.269841</td>\n",
       "      <td>0.298246</td>\n",
       "      <td>2831</td>\n",
       "    </tr>\n",
       "    <tr>\n",
       "      <th>3</th>\n",
       "      <td>PMC4384410</td>\n",
       "      <td>[0.205, 0.5394736842105263, 0.2971014492753623]</td>\n",
       "      <td>[0.07035175879396985, 0.18666666666666668, 0.1...</td>\n",
       "      <td>[0.09, 0.23684210526315788, 0.13043478260869565]</td>\n",
       "      <td>0.297101</td>\n",
       "      <td>0.539474</td>\n",
       "      <td>0.205000</td>\n",
       "      <td>0.102190</td>\n",
       "      <td>0.186667</td>\n",
       "      <td>0.070352</td>\n",
       "      <td>0.130435</td>\n",
       "      <td>0.236842</td>\n",
       "      <td>0.090000</td>\n",
       "      <td>1470</td>\n",
       "    </tr>\n",
       "    <tr>\n",
       "      <th>4</th>\n",
       "      <td>PMC4340442</td>\n",
       "      <td>[0.6949152542372882, 0.22905027932960895, 0.34...</td>\n",
       "      <td>[0.13793103448275862, 0.0449438202247191, 0.06...</td>\n",
       "      <td>[0.3050847457627119, 0.1005586592178771, 0.151...</td>\n",
       "      <td>0.344538</td>\n",
       "      <td>0.229050</td>\n",
       "      <td>0.694915</td>\n",
       "      <td>0.067797</td>\n",
       "      <td>0.044944</td>\n",
       "      <td>0.137931</td>\n",
       "      <td>0.151261</td>\n",
       "      <td>0.100559</td>\n",
       "      <td>0.305085</td>\n",
       "      <td>1354</td>\n",
       "    </tr>\n",
       "  </tbody>\n",
       "</table>\n",
       "</div>"
      ],
      "text/plain": [
       "   article_id                                             rouge1  \\\n",
       "0  PMC3942098   [0.34, 0.07264957264957266, 0.11971830985915494]   \n",
       "1  PMC3671636     [0.23, 0.4107142857142857, 0.2948717948717949]   \n",
       "2  PMC3323367     [0.5263157894736842, 0.47619047619047616, 0.5]   \n",
       "3  PMC4384410    [0.205, 0.5394736842105263, 0.2971014492753623]   \n",
       "4  PMC4340442  [0.6949152542372882, 0.22905027932960895, 0.34...   \n",
       "\n",
       "                                              rouge2  \\\n",
       "0  [0.061224489795918366, 0.012875536480686695, 0...   \n",
       "1  [0.010101010101010102, 0.01818181818181818, 0....   \n",
       "2  [0.16071428571428573, 0.14516129032258066, 0.1...   \n",
       "3  [0.07035175879396985, 0.18666666666666668, 0.1...   \n",
       "4  [0.13793103448275862, 0.0449438202247191, 0.06...   \n",
       "\n",
       "                                           rougeLsum  rouge_1_f1  \\\n",
       "0   [0.24, 0.05128205128205128, 0.08450704225352113]    0.119718   \n",
       "1    [0.16, 0.2857142857142857, 0.20512820512820512]    0.294872   \n",
       "2  [0.2982456140350877, 0.2698412698412698, 0.283...    0.500000   \n",
       "3   [0.09, 0.23684210526315788, 0.13043478260869565]    0.297101   \n",
       "4  [0.3050847457627119, 0.1005586592178771, 0.151...    0.344538   \n",
       "\n",
       "   rouge_1_recall  rouge_1_precision  rouge_2_f1  rouge_2_recall  \\\n",
       "0        0.072650           0.340000    0.021277        0.012876   \n",
       "1        0.410714           0.230000    0.012987        0.018182   \n",
       "2        0.476190           0.526316    0.152542        0.145161   \n",
       "3        0.539474           0.205000    0.102190        0.186667   \n",
       "4        0.229050           0.694915    0.067797        0.044944   \n",
       "\n",
       "   rouge_2_precision  rouge_lsum_f1  rouge_lsum_recall  rouge_lsum_precision  \\\n",
       "0           0.061224       0.084507           0.051282              0.240000   \n",
       "1           0.010101       0.205128           0.285714              0.160000   \n",
       "2           0.160714       0.283333           0.269841              0.298246   \n",
       "3           0.070352       0.130435           0.236842              0.090000   \n",
       "4           0.137931       0.151261           0.100559              0.305085   \n",
       "\n",
       "   length  \n",
       "0       1  \n",
       "1    2618  \n",
       "2    2831  \n",
       "3    1470  \n",
       "4    1354  "
      ]
     },
     "execution_count": 11,
     "metadata": {},
     "output_type": "execute_result"
    }
   ],
   "source": [
    "# load short documents into dataframe\n",
    "with open('short_doc_results.txt') as json_file:\n",
    "    short_doc_results = json.load(json_file)\n",
    "\n",
    "short_df = pd.DataFrame.from_dict(short_doc_results, orient='index') # import data into pandas\n",
    "\n",
    "# UDFs to unpack values\n",
    "def unpack_f1(line, index=2):\n",
    "    return line[index]\n",
    "def unpack_precision(line, index=0):\n",
    "    return line[index]\n",
    "def unpack_recall(line, index=1):\n",
    "    return line[index]\n",
    "# UDF to get length\n",
    "def get_length(index, token_lengths=token_lengths):\n",
    "    length = None\n",
    "    for i in token_lengths:\n",
    "        if i[0] == index:\n",
    "            length = i[1]\n",
    "            return length\n",
    "\n",
    "# unpack values into individual columns\n",
    "short_df['rouge_1_f1'] = short_df.rouge1.apply(unpack_f1)\n",
    "short_df['rouge_1_recall'] = short_df.rouge1.apply(unpack_recall)\n",
    "short_df['rouge_1_precision'] = short_df.rouge1.apply(unpack_precision)\n",
    "short_df['rouge_2_f1'] = short_df.rouge2.apply(unpack_f1)\n",
    "short_df['rouge_2_recall'] = short_df.rouge2.apply(unpack_recall)\n",
    "short_df['rouge_2_precision'] = short_df.rouge2.apply(unpack_precision)\n",
    "short_df['rouge_lsum_f1'] = short_df.rougeLsum.apply(unpack_f1)\n",
    "short_df['rouge_lsum_recall'] = short_df.rougeLsum.apply(unpack_recall)\n",
    "short_df['rouge_lsum_precision'] = short_df.rougeLsum.apply(unpack_precision)\n",
    "\n",
    "# reset index and rename article id field\n",
    "short_df.reset_index(inplace=True)\n",
    "short_df.rename({'index':'article_id'},axis=1, inplace=True)\n",
    "# add length\n",
    "short_df['length'] = short_df.article_id.apply(get_length)\n",
    "short_df.head()"
   ]
  },
  {
   "cell_type": "code",
   "execution_count": 12,
   "id": "27e63527-3fd7-477f-a6d7-db21a902d9dc",
   "metadata": {},
   "outputs": [],
   "source": [
    "# join long and short dataframes\n",
    "data_frames = [long_df, short_df]\n",
    "combo_df = pd.concat(data_frames)"
   ]
  },
  {
   "cell_type": "code",
   "execution_count": 13,
   "id": "154d926b-d1cf-41d9-b760-882a65693ea4",
   "metadata": {},
   "outputs": [
    {
     "data": {
      "text/plain": [
       "[<matplotlib.lines.Line2D at 0x7f621025d090>]"
      ]
     },
     "execution_count": 13,
     "metadata": {},
     "output_type": "execute_result"
    },
    {
     "data": {
      "image/png": "[encoded data removed]",
      "text/plain": [
       "<Figure size 1440x720 with 9 Axes>"
      ]
     },
     "metadata": {
      "needs_background": "light"
     },
     "output_type": "display_data"
    }
   ],
   "source": [
    "# scatter plot relationships\n",
    "fig, axs = plt.subplots(3,3, figsize = (20,10))\n",
    "axs[0,0].set_title('rouge1 precision')\n",
    "axs[0,0].scatter(combo_df.length, combo_df.rouge_1_precision)\n",
    "m1, b1 = np.polyfit(combo_df.length, combo_df.rouge_1_precision, 1)\n",
    "axs[0,0].plot(combo_df.length, m1*combo_df.length + b1)\n",
    "#rouge 1\n",
    "axs[0,1].set_title('rouge1 recall')\n",
    "axs[0,1].scatter(combo_df.length, combo_df.rouge_1_recall)\n",
    "m2, b2 = np.polyfit(combo_df.length, combo_df.rouge_1_recall, 1)\n",
    "axs[0,1].plot(combo_df.length, m2*combo_df.length + b2)\n",
    "\n",
    "axs[0,2].set_title('rouge1 f1')\n",
    "axs[0,2].scatter(combo_df.length, combo_df.rouge_1_f1)\n",
    "m3, b3 = np.polyfit(combo_df.length, combo_df.rouge_1_f1, 1)\n",
    "axs[0,2].plot(combo_df.length, m3*combo_df.length + b3)\n",
    "\n",
    "\n",
    "# rouge 2\n",
    "axs[1,0].set_title('rouge2 precision')\n",
    "axs[1,0].scatter(combo_df.length, combo_df.rouge_2_precision)\n",
    "m4, b4 = np.polyfit(combo_df.length, combo_df.rouge_2_precision, 1)\n",
    "axs[1,0].plot(combo_df.length, m4*combo_df.length + b4)\n",
    "\n",
    "axs[1,1].set_title('rouge2 recall')\n",
    "axs[1,1].scatter(combo_df.length, combo_df.rouge_2_recall)\n",
    "m5, b5 = np.polyfit(combo_df.length, combo_df.rouge_2_recall, 1)\n",
    "axs[1,1].plot(combo_df.length, m5*combo_df.length + b5)\n",
    "\n",
    "axs[1,2].set_title('rouge2 f1')\n",
    "axs[1,2].scatter(combo_df.length, combo_df.rouge_2_f1)\n",
    "m6, b6 = np.polyfit(combo_df.length, combo_df.rouge_2_f1, 1)\n",
    "axs[1,2].plot(combo_df.length, m6*combo_df.length + b6)\n",
    "\n",
    "\n",
    "# rouge lsum\n",
    "axs[2,0].set_title('rougelsum precision')\n",
    "axs[2,0].scatter(combo_df.length, combo_df.rouge_lsum_precision)\n",
    "m7, b7 = np.polyfit(combo_df.length, combo_df.rouge_lsum_precision, 1)\n",
    "axs[2,0].plot(combo_df.length, m7*combo_df.length + b7)\n",
    "\n",
    "axs[2,1].set_title('rougelsum recall')\n",
    "axs[2,1].scatter(combo_df.length, combo_df.rouge_lsum_recall)\n",
    "m8, b8 = np.polyfit(combo_df.length, combo_df.rouge_lsum_recall, 1)\n",
    "axs[2,1].plot(combo_df.length, m8*combo_df.length + b8)\n",
    "\n",
    "axs[2,2].set_title('rougelsum f1')\n",
    "axs[2,2].scatter(combo_df.length, combo_df.rouge_lsum_f1)\n",
    "m9, b9 = np.polyfit(combo_df.length, combo_df.rouge_lsum_f1, 1)\n",
    "axs[2,2].plot(combo_df.length, m9*combo_df.length + b9)"
   ]
  },
  {
   "cell_type": "code",
   "execution_count": 14,
   "id": "d6c8aa75-7ff5-4669-9fd4-7fec455d78b9",
   "metadata": {},
   "outputs": [
    {
     "name": "stdout",
     "output_type": "stream",
     "text": [
      "m1: 1.4465709396033473e-06, m2: 2.3534536583852944e-06, m3: 3.828257299889648e-06\n",
      "m4: -6.438085229340249e-06, m5: -4.218498582786123e-06, m6: -4.3985460002494464e-06\n",
      "m7: -6.109814083784409e-06, m8: -3.1354353473804847e-06, m9: -3.013356314418499e-06\n"
     ]
    }
   ],
   "source": [
    "print(f'm1: {m1}, m2: {m2}, m3: {m3}')\n",
    "print(f'm4: {m4}, m5: {m5}, m6: {m6}')\n",
    "print(f'm7: {m7}, m8: {m8}, m9: {m9}')"
   ]
  },
  {
   "cell_type": "markdown",
   "id": "6f3cd1dc-6894-4882-b4e4-78d62db338ac",
   "metadata": {},
   "source": [
    "while the trend is slightly positive with respect to rouge 1 score and document length, we can see a stronger negative relationship with rouge 2 and rouge lsum and document length"
   ]
  },
  {
   "cell_type": "code",
   "execution_count": 15,
   "id": "a9c4c28e-807b-40b7-97b7-dab0639d0a8e",
   "metadata": {},
   "outputs": [
    {
     "name": "stdout",
     "output_type": "stream",
     "text": [
      "Rouge_1_f1 t-test: Ttest_indResult(statistic=1.0962249140826115, pvalue=0.27667733800641664)\n",
      "Rouge_2_f1 t-test: Ttest_indResult(statistic=-1.0331376177004927, pvalue=0.30485076257905813)\n",
      "Rouge_lsum_f1 t-test: Ttest_indResult(statistic=-0.9999018767092148, pvalue=0.3205347734638492)\n"
     ]
    }
   ],
   "source": [
    "r1f1long = np.array(long_df['rouge_1_f1'])\n",
    "r1f1short = np.array(short_df['rouge_1_f1'])\n",
    "print(f'Rouge_1_f1 t-test: {scipy.stats.ttest_ind(r1f1long, r1f1short, equal_var=False)}')\n",
    "r2f1long = np.array(long_df['rouge_2_f1'])\n",
    "r2f1short = np.array(short_df['rouge_2_f1'])\n",
    "print(f'Rouge_2_f1 t-test: {scipy.stats.ttest_ind(r2f1long, r2f1short, equal_var=False)}')\n",
    "rlsumf1long = np.array(long_df['rouge_lsum_f1'])\n",
    "rlsumf1short = np.array(short_df['rouge_lsum_f1'])\n",
    "print(f'Rouge_lsum_f1 t-test: {scipy.stats.ttest_ind(rlsumf1long, rlsumf1short, equal_var=False)}')"
   ]
  },
  {
   "cell_type": "markdown",
   "id": "0dd676d2-c475-4c3f-8316-58759f530a14",
   "metadata": {},
   "source": [
    "T-test come back as not significant - I should probably do an f-test on the regression coefficients instead, and not sample based on size. (increase sample size to 600 and run again)"
   ]
  },
  {
   "cell_type": "code",
   "execution_count": null,
   "id": "2d170326-f82c-4dec-af1d-8ca7e6786dd4",
   "metadata": {},
   "outputs": [],
   "source": []
  },
  {
   "cell_type": "code",
   "execution_count": 16,
   "id": "54e7612d-7d37-4396-b624-f5defd4f1d4e",
   "metadata": {},
   "outputs": [
    {
     "data": {
      "text/plain": [
       "['PMC3872579', 5520]"
      ]
     },
     "execution_count": 16,
     "metadata": {},
     "output_type": "execute_result"
    }
   ],
   "source": [
    "token_lengths[0]"
   ]
  },
  {
   "cell_type": "code",
   "execution_count": 26,
   "id": "4c476eef-a8d3-4f08-9889-6d6e5afd2d79",
   "metadata": {},
   "outputs": [
    {
     "name": "stdout",
     "output_type": "stream",
     "text": [
      "[(0, 'PMC3872579'), (1, 'PMC3770628'), (2, 'PMC5330001'), (3, 'PMC4386667'), (4, 'PMC4307954'), (5, 'PMC4999018'), (6, 'PMC4789428'), (7, 'PMC2526541'), (8, 'PMC4217354'), (9, 'PMC3133512')]\n",
      "[(107754, 'PMC4851754'), (25334, 'PMC3944292'), (115129, 'PMC2909890'), (79592, 'PMC3178013'), (72879, 'PMC5063726'), (70472, 'PMC4421340'), (111810, 'PMC4525387'), (91930, 'PMC3228955'), (19113, 'PMC5414616'), (72021, 'PMC4062986')]\n",
      "Mean sample length: 3823.1116666666667\n",
      "Sample length std: 3142.2255466251763\n"
     ]
    }
   ],
   "source": [
    "# how much does truncation actualy impact the quality of the summarization if it is done simply (first 4096 tokens)?\n",
    "# randomly select 50 documents that are significantly longer than 4096 (choose 5000 arbitrarily)\n",
    "doc_sizes = []\n",
    "j = 0\n",
    "for i in token_lengths:\n",
    "    doc_sizes.append((j, i[0]))\n",
    "    j+=1\n",
    "\n",
    "def sample(indexes, token_lengths, n=50, print_stats=True):\n",
    "    \"\"\"\n",
    "    indexes - list of tuples (document index, document id)\n",
    "    n - int (number of indexes to sample)\n",
    "    token_lengths - list of tuples (article id, token length)\n",
    "    print_stats - boolean\n",
    "    \n",
    "    returns - list of randomly selected tuples (document index, document id)\n",
    "    \"\"\"\n",
    "    random.seed(42)\n",
    "    print(indexes[:10])\n",
    "    random.shuffle(indexes)\n",
    "    selection = indexes[:n]\n",
    "    print(selection[:10])\n",
    "    if print_stats:\n",
    "        lengths = np.array([token_lengths[i[0]][1] for i in selection])\n",
    "        print(f'Mean sample length: {lengths.mean()}')\n",
    "        print(f'Sample length std: {lengths.std()}')\n",
    "\n",
    "    return selection\n",
    "    \n",
    "# randomly select 600 docs\n",
    "sampled_docs = sample(doc_sizes, token_lengths, n=600)\n",
    "\n",
    "\n",
    "doc_results = {}\n",
    "tokenizer = AutoTokenizer.from_pretrained(\"google/bigbird-pegasus-large-pubmed\")\n",
    "model = BigBirdPegasusForConditionalGeneration.from_pretrained(\"google/bigbird-pegasus-large-pubmed\")\n",
    "scorer = rouge_scorer.RougeScorer([\"rouge1\", \"rouge2\", \"rougeLsum\"], use_stemmer=True)\n",
    "aggregator = scoring.BootstrapAggregator()\n",
    "for paper in sampled_docs:\n",
    "     document = train[paper[0]]\n",
    "     input = tokenizer(document['article_text'], return_tensors='pt', is_split_into_words=True, max_length=4096, truncation=True)\n",
    "     prediction = model.generate(**input)\n",
    "     prediction = tokenizer.batch_decode(prediction)\n",
    "     reference = to_paragraph(document['abstract_text'])\n",
    "     score = scorer.score(reference, prediction[0])\n",
    "     aggregator.add_scores(score)\n",
    "     ag_score = aggregator.aggregate()\n",
    "     doc_results[paper[1]] = score\n",
    "doc_ag_score = ag_score\n",
    "print('Completed document evaluation')\n",
    "print(doc_ag_score)\n"
   ]
  },
  {
   "cell_type": "code",
   "execution_count": null,
   "id": "1f393b71-a48f-4206-8307-a1c79040da8e",
   "metadata": {},
   "outputs": [],
   "source": [
    "# load long documents into data frame\n",
    "with open('doc_results.txt') as json_file:\n",
    "    doc_results = json.load(json_file)\n",
    "    \n",
    "df = pd.DataFrame.from_dict(long_doc_results, orient='index') # import data into pandas\n",
    "\n",
    "# UDFs to unpack values\n",
    "def unpack_f1(line, index=2):\n",
    "    return line[index]\n",
    "def unpack_precision(line, index=0):\n",
    "    return line[index]\n",
    "def unpack_recall(line, index=1):\n",
    "    return line[index]\n",
    "# UDF to get length\n",
    "def get_length(index, token_lengths=token_lengths):\n",
    "    length = None\n",
    "    for i in token_lengths:\n",
    "        if i[0] == index:\n",
    "            length = i[1]\n",
    "            return length\n",
    "\n",
    "# unpack values into individual columns\n",
    "df['rouge_1_f1'] = df.rouge1.apply(unpack_f1)\n",
    "df['rouge_1_recall'] = df.rouge1.apply(unpack_recall)\n",
    "df['rouge_1_precision'] = df.rouge1.apply(unpack_precision)\n",
    "df['rouge_2_f1'] = df.rouge2.apply(unpack_f1)\n",
    "df['rouge_2_recall'] = df.rouge2.apply(unpack_recall)\n",
    "df['rouge_2_precision'] = df.rouge2.apply(unpack_precision)\n",
    "df['rouge_lsum_f1'] = df.rougeLsum.apply(unpack_f1)\n",
    "df['rouge_lsum_recall'] = df.rougeLsum.apply(unpack_recall)\n",
    "df['rouge_lsum_precision'] = df.rougeLsum.apply(unpack_precision)\n",
    "\n",
    "# reset index and rename article id field\n",
    "df.reset_index(inplace=True)\n",
    "df.rename({'index':'article_id'},axis=1, inplace=True)\n",
    "# add length\n",
    "df['length'] = df.article_id.apply(get_length)\n",
    "df.head()"
   ]
  },
  {
   "cell_type": "code",
   "execution_count": null,
   "id": "65e035ba-7567-4998-92d9-a5f5d1292ab0",
   "metadata": {},
   "outputs": [],
   "source": [
    "fig, axs = plt.subplots(3,3, figsize = (20,10))\n",
    "axs[0,0].set_title('rouge1 precision')\n",
    "axs[0,0].scatter(df.length, df.rouge_1_precision)\n",
    "m1, b1 = np.polyfit(df.length, df.rouge_1_precision, 1)\n",
    "axs[0,0].plot(df.length, m1*df.length + b1)\n",
    "#rouge 1\n",
    "axs[0,1].set_title('rouge1 recall')\n",
    "axs[0,1].scatter(df.length, df.rouge_1_recall)\n",
    "m2, b2 = np.polyfit(df.length, df.rouge_1_recall, 1)\n",
    "axs[0,1].plot(df.length, m2*df.length + b2)\n",
    "\n",
    "axs[0,2].set_title('rouge1 f1')\n",
    "axs[0,2].scatter(df.length, df.rouge_1_f1)\n",
    "m3, b3 = np.polyfit(df.length, df.rouge_1_f1, 1)\n",
    "axs[0,2].plot(df.length, m3*df.length + b3)\n",
    "\n",
    "\n",
    "# rouge 2\n",
    "axs[1,0].set_title('rouge2 precision')\n",
    "axs[1,0].scatter(df.length, df.rouge_2_precision)\n",
    "m4, b4 = np.polyfit(df.length, df.rouge_2_precision, 1)\n",
    "axs[1,0].plot(df.length, m4*df.length + b4)\n",
    "\n",
    "axs[1,1].set_title('rouge2 recall')\n",
    "axs[1,1].scatter(df.length, df.rouge_2_recall)\n",
    "m5, b5 = np.polyfit(df.length, df.rouge_2_recall, 1)\n",
    "axs[1,1].plot(df.length, m5*df.length + b5)\n",
    "\n",
    "axs[1,2].set_title('rouge2 f1')\n",
    "axs[1,2].scatter(df.length, df.rouge_2_f1)\n",
    "m6, b6 = np.polyfit(df.length, df.rouge_2_f1, 1)\n",
    "axs[1,2].plot(df.length, m6*df.length + b6)\n",
    "\n",
    "\n",
    "# rouge lsum\n",
    "axs[2,0].set_title('rougelsum precision')\n",
    "axs[2,0].scatter(df.length, df.rouge_lsum_precision)\n",
    "m7, b7 = np.polyfit(df.length, df.rouge_lsum_precision, 1)\n",
    "axs[2,0].plot(df.length, m7*df.length + b7)\n",
    "\n",
    "axs[2,1].set_title('rougelsum recall')\n",
    "axs[2,1].scatter(df.length, df.rouge_lsum_recall)\n",
    "m8, b8 = np.polyfit(df.length, df.rouge_lsum_recall, 1)\n",
    "axs[2,1].plot(df.length, m8*df.length + b8)\n",
    "\n",
    "axs[2,2].set_title('rougelsum f1')\n",
    "axs[2,2].scatter(df.length, df.rouge_lsum_f1)\n",
    "m9, b9 = np.polyfit(df.length, df.rouge_lsum_f1, 1)\n",
    "axs[2,2].plot(df.length, m9*df.length + b9)\n",
    "\n",
    "print(f'm1: {m1}, m2: {m2}, m3: {m3}')\n",
    "print(f'm4: {m4}, m5: {m5}, m6: {m6}')\n",
    "print(f'm7: {m7}, m8: {m8}, m9: {m9}')"
   ]
  },
  {
   "cell_type": "code",
   "execution_count": null,
   "id": "547864dd-b42d-46cd-a06b-421f8c27f08f",
   "metadata": {},
   "outputs": [
    {
     "name": "stderr",
     "output_type": "stream",
     "text": [
      "Token indices sequence length is longer than the specified maximum sequence length for this model (6815 > 4096). Running this sequence through the model will result in indexing errors\n"
     ]
    }
   ],
   "source": [
    "# what is the average token length of individual sections?\n",
    "# LONG RUNTIME\n",
    "section_lengths = {}\n",
    "tokenizer = AutoTokenizer.from_pretrained(\"google/bigbird-pegasus-large-pubmed\")\n",
    "for i in train:\n",
    "    sections = {}\n",
    "    for j in range(len(i['section_names'])):\n",
    "        section_length = len(tokenizer(i['sections'][j], is_split_into_words=True, return_tensors='pt', truncation=False)[0])\n",
    "        sections[i['section_names'][j]] = section_length\n",
    "    section_lengths[i['article_id']] = sections\n",
    "with open(\"section_lengths.txt\", 'w') as outfile:\n",
    "    json.dump(section_lengths, outfile)"
   ]
  },
  {
   "cell_type": "code",
   "execution_count": 212,
   "id": "4a1f0ea0-a727-4ba4-819b-87f14cd48779",
   "metadata": {},
   "outputs": [],
   "source": [
    "with open(\"section_lengths.txt\") as json_file:\n",
    "    section_lengths = json.load(json_file)"
   ]
  },
  {
   "cell_type": "code",
   "execution_count": 184,
   "id": "3d9ea3eb-927b-4d9c-aa50-72a29072b471",
   "metadata": {},
   "outputs": [
    {
     "data": {
      "text/plain": [
       "'PMC3872579'"
      ]
     },
     "execution_count": 184,
     "metadata": {},
     "output_type": "execute_result"
    }
   ],
   "source": [
    "list(section_lengths.keys())[0]"
   ]
  },
  {
   "cell_type": "code",
   "execution_count": 188,
   "id": "546ff21d-6afd-43c5-9342-22203664105f",
   "metadata": {},
   "outputs": [
    {
     "data": {
      "text/plain": [
       "{'INTRODUCTION': 658,\n",
       " 'MATERIALS AND METHODS': 1135,\n",
       " 'Participants': 239,\n",
       " 'Instruments': 41,\n",
       " 'Procedure': 687,\n",
       " 'First step': 64,\n",
       " 'Second step': 80,\n",
       " 'Third step': 35,\n",
       " 'Forth step': 48,\n",
       " 'Interventions': 294,\n",
       " 'Fifth step (assessment)': 163,\n",
       " 'Data analysis': 218,\n",
       " 'RESULTS': 589,\n",
       " 'DISCUSSION': 1257,\n",
       " 'CONCLUSION': 26}"
      ]
     },
     "execution_count": 188,
     "metadata": {},
     "output_type": "execute_result"
    }
   ],
   "source": [
    "test1 = {}\n",
    "a = section_lengths['PMC3872579']\n",
    "for i in a.keys():\n",
    "    test1[i] = a[i]\n",
    "test1"
   ]
  },
  {
   "cell_type": "code",
   "execution_count": 190,
   "id": "6cc015b2-1783-4626-8137-5ce5b109f60c",
   "metadata": {},
   "outputs": [
    {
     "data": {
      "text/plain": [
       "dict_values([658, 1135, 239, 41, 687, 64, 80, 35, 48, 294, 163, 218, 589, 1257, 26])"
      ]
     },
     "execution_count": 190,
     "metadata": {},
     "output_type": "execute_result"
    }
   ],
   "source": [
    "a.values()"
   ]
  },
  {
   "cell_type": "code",
   "execution_count": 216,
   "id": "407446a9-cff3-4096-a79e-b30456203ffa",
   "metadata": {},
   "outputs": [],
   "source": [
    "all_section_lengths = []\n",
    "popular_section_lenghts = {}\n",
    "pop_sect_names = list(section_names[section_names[0] > 500].index)\n",
    "for i in section_lengths.keys():\n",
    "    all_section_lengths += list(section_lengths[i].values())\n",
    "    for name in list(section_lengths[i].keys()):\n",
    "        if name in pop_sect_names:\n",
    "            popular_section_lenghts[name] = section_lengths[i][name]"
   ]
  },
  {
   "cell_type": "code",
   "execution_count": 220,
   "id": "fadaddbe-c4c9-4d4a-88f1-1421439dd48d",
   "metadata": {},
   "outputs": [
    {
     "data": {
      "text/plain": [
       "11"
      ]
     },
     "execution_count": 220,
     "metadata": {},
     "output_type": "execute_result"
    }
   ],
   "source": [
    "len(popular_section_lenghts.keys())"
   ]
  },
  {
   "cell_type": "code",
   "execution_count": 170,
   "id": "abe11832-134a-4da8-9a2e-f279d0b4948b",
   "metadata": {},
   "outputs": [
    {
     "data": {
      "text/html": [
       "<div>\n",
       "<style scoped>\n",
       "    .dataframe tbody tr th:only-of-type {\n",
       "        vertical-align: middle;\n",
       "    }\n",
       "\n",
       "    .dataframe tbody tr th {\n",
       "        vertical-align: top;\n",
       "    }\n",
       "\n",
       "    .dataframe thead th {\n",
       "        text-align: right;\n",
       "    }\n",
       "</style>\n",
       "<table border=\"1\" class=\"dataframe\">\n",
       "  <thead>\n",
       "    <tr style=\"text-align: right;\">\n",
       "      <th></th>\n",
       "      <th>0</th>\n",
       "    </tr>\n",
       "  </thead>\n",
       "  <tbody>\n",
       "    <tr>\n",
       "      <th>introduction</th>\n",
       "      <td>66017</td>\n",
       "    </tr>\n",
       "    <tr>\n",
       "      <th>materials and methods</th>\n",
       "      <td>20023</td>\n",
       "    </tr>\n",
       "    <tr>\n",
       "      <th>participants</th>\n",
       "      <td>1044</td>\n",
       "    </tr>\n",
       "    <tr>\n",
       "      <th>instruments</th>\n",
       "      <td>135</td>\n",
       "    </tr>\n",
       "    <tr>\n",
       "      <th>procedure</th>\n",
       "      <td>548</td>\n",
       "    </tr>\n",
       "    <tr>\n",
       "      <th>...</th>\n",
       "      <td>...</td>\n",
       "    </tr>\n",
       "    <tr>\n",
       "      <th>loads and constraints</th>\n",
       "      <td>1</td>\n",
       "    </tr>\n",
       "    <tr>\n",
       "      <th>reveal registry</th>\n",
       "      <td>1</td>\n",
       "    </tr>\n",
       "    <tr>\n",
       "      <th>baseline characteristics in patients with ctd-apah</th>\n",
       "      <td>1</td>\n",
       "    </tr>\n",
       "    <tr>\n",
       "      <th>poorer survival in ssc-apah compared with non-ssc-ctd-apah</th>\n",
       "      <td>1</td>\n",
       "    </tr>\n",
       "    <tr>\n",
       "      <th>unique predictors of mortality in ssc-apah</th>\n",
       "      <td>1</td>\n",
       "    </tr>\n",
       "  </tbody>\n",
       "</table>\n",
       "<p>157123 rows × 1 columns</p>\n",
       "</div>"
      ],
      "text/plain": [
       "                                                        0\n",
       "introduction                                        66017\n",
       "materials and methods                               20023\n",
       "participants                                         1044\n",
       "instruments                                           135\n",
       "procedure                                             548\n",
       "...                                                   ...\n",
       "loads and constraints                                   1\n",
       "reveal registry                                         1\n",
       "baseline characteristics in patients with ctd-apah      1\n",
       "poorer survival in ssc-apah compared with non-s...      1\n",
       "unique predictors of mortality in ssc-apah              1\n",
       "\n",
       "[157123 rows x 1 columns]"
      ]
     },
     "execution_count": 170,
     "metadata": {},
     "output_type": "execute_result"
    }
   ],
   "source": [
    "section_names"
   ]
  },
  {
   "cell_type": "code",
   "execution_count": 174,
   "id": "498f542a-d64b-484a-a023-6b08978a5b7b",
   "metadata": {},
   "outputs": [
    {
     "data": {
      "text/plain": [
       "['introduction',\n",
       " 'materials and methods',\n",
       " 'participants',\n",
       " 'procedure',\n",
       " 'data analysis',\n",
       " 'results',\n",
       " 'discussion',\n",
       " 'conclusion',\n",
       " 'patients and methods',\n",
       " 'study design',\n",
       " 'statistical analysis',\n",
       " 'case report',\n",
       " 'financial support and sponsorship',\n",
       " 'conflicts of interest',\n",
       " '1. introduction',\n",
       " '4. conclusions',\n",
       " 'conflict of interest',\n",
       " 'background',\n",
       " 'material and methods',\n",
       " 'conclusions',\n",
       " '2. methods',\n",
       " '3. results',\n",
       " '4. discussion',\n",
       " '5. conclusion',\n",
       " 'subjects',\n",
       " 'conclusion:',\n",
       " 'case',\n",
       " 'images',\n",
       " '2. materials and methods',\n",
       " 'results and discussion',\n",
       " '3. results and discussion',\n",
       " 'concluding remarks',\n",
       " 'methods',\n",
       " 'study population',\n",
       " 'purpose',\n",
       " 'data collection',\n",
       " 'surgical technique',\n",
       " '1. background',\n",
       " 'abbreviations',\n",
       " 'none',\n",
       " 'funding',\n",
       " '1. introduction ',\n",
       " '6. conclusion',\n",
       " '2. material and methods',\n",
       " 'subjects and methods',\n",
       " 'statistical analyses',\n",
       " 'experimental section',\n",
       " 'supplementary material',\n",
       " 'case presentation',\n",
       " 'research design and methods',\n",
       " '5. conclusions',\n",
       " 'i',\n",
       " 'm',\n",
       " 'r',\n",
       " 'd',\n",
       " 'limitations',\n",
       " 'summary',\n",
       " 'the study',\n",
       " '4. conclusion',\n",
       " 'author contributions',\n",
       " 'disclosure',\n",
       " '4. results',\n",
       " 'c',\n",
       " 'patients',\n",
       " '2. objectives',\n",
       " '3. patients and methods',\n",
       " '5. discussion',\n",
       " 'supporting information',\n",
       " 'ethical considerations',\n",
       " 'experimental procedures',\n",
       " 'competing interests',\n",
       " 'case reports',\n",
       " '2. patients and methods',\n",
       " 'disclosure statement',\n",
       " 'case 1',\n",
       " 'case 2',\n",
       " 'conflict of interest statement',\n",
       " '6. conclusions',\n",
       " 'introduction:',\n",
       " 'acknowledgements',\n",
       " 'figures and tables',\n",
       " 'disclosures',\n",
       " 'results:',\n",
       " 'statistics',\n",
       " 'statement of ethics',\n",
       " 'conflict of interest and funding',\n",
       " 'acknowledgments',\n",
       " '3. discussion',\n",
       " 'ethical approval',\n",
       " 'case 3',\n",
       " 'electronic supplementary material']"
      ]
     },
     "execution_count": 174,
     "metadata": {},
     "output_type": "execute_result"
    }
   ],
   "source": [
    "list(section_names[section_names[0] > 500].index)"
   ]
  },
  {
   "cell_type": "code",
   "execution_count": null,
   "id": "50eaca14-d83e-46e0-9dca-7f977b8631cc",
   "metadata": {},
   "outputs": [],
   "source": [
    "# what is the average token length of 'Popular sections' such as intro/ conclusion?"
   ]
  },
  {
   "cell_type": "code",
   "execution_count": 205,
   "id": "fbcb9e7c-5395-48eb-9cbb-0c2b901cf4ae",
   "metadata": {},
   "outputs": [
    {
     "name": "stdout",
     "output_type": "stream",
     "text": [
      "Average number of sections: 5.8894132950868885\n",
      "Standard devation in number of sections: 3.138274347108281\n"
     ]
    }
   ],
   "source": [
    "# what is the average number of sections in each document?\n",
    "section_lengths = []\n",
    "for i in train:\n",
    "    section_lengths.append(len(i['section_names']))\n",
    "section_lengths = np.array(section_lengths)\n",
    "print(f'Average number of sections: {section_lengths.mean()}')\n",
    "print(f'Standard devation in number of sections: {section_lengths.std()}')"
   ]
  },
  {
   "cell_type": "code",
   "execution_count": 206,
   "id": "a318a5c6-983e-484a-90cc-5b4911a1fcf9",
   "metadata": {},
   "outputs": [
    {
     "name": "stdout",
     "output_type": "stream",
     "text": [
      "Total number of unique section names: 157123\n"
     ]
    }
   ],
   "source": [
    "# what is the total number of unique section names?\n",
    "print(f'Total number of unique section names: {len(section_names)}')"
   ]
  },
  {
   "cell_type": "code",
   "execution_count": 207,
   "id": "11af74bf-9693-4f3c-8dca-bae3eee15eb4",
   "metadata": {},
   "outputs": [
    {
     "name": "stdout",
     "output_type": "stream",
     "text": [
      "7.678061136816379 %\n"
     ]
    }
   ],
   "source": [
    "# what percentage of these section heddings occur more than once?\n",
    "print(f'{len(section_names[section_names[0] > 1]) / len(section_names) * 100} %')"
   ]
  },
  {
   "cell_type": "code",
   "execution_count": 208,
   "id": "c10c4d6e-5721-4af0-a63c-f84e62128f04",
   "metadata": {},
   "outputs": [
    {
     "name": "stdout",
     "output_type": "stream",
     "text": [
      "1.7037607479490589 %\n"
     ]
    }
   ],
   "source": [
    "# what percentage of these section heddings occur more than 5 times?\n",
    "print(f'{len(section_names[section_names[0] > 5]) / len(section_names) * 100} %')"
   ]
  },
  {
   "cell_type": "code",
   "execution_count": 209,
   "id": "981dff1d-25cc-432c-8535-13d92a83d21f",
   "metadata": {},
   "outputs": [
    {
     "name": "stdout",
     "output_type": "stream",
     "text": [
      "0.05791640943719251 %\n"
     ]
    }
   ],
   "source": [
    "# what percentage of these section heddings occur more than 500 times?\n",
    "print(f'{len(section_names[section_names[0] > 500]) / len(section_names) * 100} %')"
   ]
  },
  {
   "cell_type": "code",
   "execution_count": 214,
   "id": "e9d45514-81ba-436c-b08a-b1e815cccb92",
   "metadata": {},
   "outputs": [
    {
     "name": "stderr",
     "output_type": "stream",
     "text": [
      "/opt/conda/lib/python3.7/site-packages/pandas/core/frame.py:5047: SettingWithCopyWarning: \n",
      "A value is trying to be set on a copy of a slice from a DataFrame\n",
      "\n",
      "See the caveats in the documentation: https://pandas.pydata.org/pandas-docs/stable/user_guide/indexing.html#returning-a-view-versus-a-copy\n",
      "  errors=errors,\n",
      "/opt/conda/lib/python3.7/site-packages/pandas/util/_decorators.py:311: SettingWithCopyWarning: \n",
      "A value is trying to be set on a copy of a slice from a DataFrame\n",
      "\n",
      "See the caveats in the documentation: https://pandas.pydata.org/pandas-docs/stable/user_guide/indexing.html#returning-a-view-versus-a-copy\n",
      "  return func(*args, **kwargs)\n"
     ]
    },
    {
     "data": {
      "image/png": "[encoded data removed]",
      "text/plain": [
       "<Figure size 792x5760 with 1 Axes>"
      ]
     },
     "metadata": {
      "needs_background": "light"
     },
     "output_type": "display_data"
    }
   ],
   "source": [
    "popular_sections = None\n",
    "popular_sections = section_names[section_names[0] > 500]\n",
    "popular_sections.reset_index(inplace=True)\n",
    "popular_sections.rename(mapper={'index': 'section_name', 0: 'count'}, axis=1, inplace=True)\n",
    "popular_sections.sort_values(by='count', ascending=False, inplace=True)\n",
    "fig, ax = plt.subplots(figsize=(11,80))\n",
    "sns.barplot(ax=ax, x='count', y='section_name', data=popular_sections)\n",
    "ax.set_title('most popular section names')\n",
    "sns.despine()"
   ]
  },
  {
   "cell_type": "markdown",
   "id": "78d2820d-6e45-4a23-8f01-fafa54433e3b",
   "metadata": {},
   "source": [
    "As can be observed in the above graph, and summary statistics (todo: generate summary stats), we have a large  dispersion in section names across the dataset. The training set contains 119,924 documents and each document contains on average 5.89 sections for a total number of unique sections (when we convert the section names to all lowercase) of 157,123. The standard deviation in the number of section is 3.14. Of these section names, 7.68% occur more than once in the training set, 1.70% occur more than 5 times, and only 0.0579% occur more than 500 times. The sections that occur more than 500 times areshown in the plot above (popular section names). A contributing factor to this level of dispersion appears to be the inconsistency in the labeling of the sections, for example 'conclusion' and '6. conclusions' are counted seperatedly, but we can intuitively consiter these to be equivilent sections.\n",
    "\n",
    "The goal of this experiment is to selectively choose the sections that have the highest information density, and only include these sections for inclusion in the summarization task. We aim to do this because ()% of the documents in this dataset are larger than the maximum size of 4096 tokens that our bigbird-pegasus model can accomidate. We also believe there may be added benifits of reducing the amount of information prior to summarization, inparticular with respect to sections that include financial backing of the research, or conflict of interest disclosure, these sections are hypotheisized to contain very little information density with respect to generating a good summary. Conversely, we want to ensure that sections such as the introduction and conclusion are included in full for the summarization task because these sections are hypothesized to have a high information density relevent to this task.\n",
    "\n",
    "The average section length is _. "
   ]
  },
  {
   "cell_type": "code",
   "execution_count": null,
   "id": "c01cdf8d-4ebe-4f36-be06-d550cb050900",
   "metadata": {},
   "outputs": [],
   "source": [
    "ensembles = pd.DataFrame(metadata.ensemble.value_counts())\n",
    "ensembles.reset_index(inplace = True)\n",
    "fig, ax = plt.subplots(figsize=(11,8))\n",
    "sns.barplot(ax=ax,x='ensemble',y=\"index\",data=ensembles).set_title('Ensemble Counts')\n",
    "sns.despine()\n",
    "#plt.savefig('/content/drive/My Drive/w207_dataset/eda/ensemblecounts.png')\n",
    "plt.show()"
   ]
  },
  {
   "cell_type": "code",
   "execution_count": null,
   "id": "d51c5d8a-ae4e-4daf-b3ce-557d1fdf4a95",
   "metadata": {},
   "outputs": [],
   "source": []
  },
  {
   "cell_type": "code",
   "execution_count": null,
   "id": "30e5a3a6-6c4e-42df-9891-779954cf9342",
   "metadata": {},
   "outputs": [],
   "source": []
  },
  {
   "cell_type": "code",
   "execution_count": null,
   "id": "5a0a4de5-b701-4fea-a42c-63f30c4fb5ab",
   "metadata": {},
   "outputs": [],
   "source": [
    "validation_data = load_data('data/val.txt')\n",
    "#take_portion of data\n",
    "#print('loaded data!')\n",
    "# iterate over dev set\n",
    "total_papers = 0\n",
    "scorer = rouge_scorer.RougeScorer([\"rouge1\", \"rouge2\", \"rougeLsum\"], use_stemmer=True) # todo: evaluate if this when changed to l(not sum) is the same\n",
    "aggregator = scoring.BootstrapAggregator()\n",
    "#print('initialized score package!')\n",
    "tokenizer = AutoTokenizer.from_pretrained(\"google/bigbird-pegasus-large-pubmed\")\n",
    "model = BigBirdPegasusForConditionalGeneration.from_pretrained(\"google/bigbird-pegasus-large-pubmed\")\n",
    "#print('loaded model and tokenizer!')\n",
    "max_len = 4096  # maximum length the model can take in at once\n",
    "i = 0\n",
    "for paper in validation_data:\n",
    "    i += 1\n",
    "    paper = to_json(paper)\n",
    "    if str(paper['article_id']) in clean_indexes:\n",
    "        input = tokenizer(parse_paper(paper), return_tensors='pt', max_length=4096, truncation=True)\n",
    "        #print('tokenized input')\n",
    "        prediction = model.generate(**input)\n",
    "        #print('generated prediction')\n",
    "        prediction = tokenizer.batch_decode(prediction)\n",
    "        #print('decoded predictin')\n",
    "        #print(prediction[0])\n",
    "        # evaluate summary compared to ground truth\n",
    "        total_papers += 1\n",
    "        reference = to_paragraph(paper['abstract_text'])\n",
    "        #print('generated reference')\n",
    "        score = scorer.score(reference, prediction[0])\n",
    "        #print('scored prediction')\n",
    "        aggregator.add_scores(score)\n",
    "        #print('aggregated score')\n",
    "        ag_score = aggregator.aggregate()\n",
    "        file1 = open(\"mini_val_records_test_1.txt\",\"a\")\n",
    "        file1.write(str({\"index\": i, \"article_id\": paper['article_id'], \"predicted_summary\": prediction[0], \"ground_truth\": reference, \"score\": score ,\"aggregate_score\": ag_score}))\n",
    "        file1.close()\n",
    "        if total_papers % 10 == 0:\n",
    "            print(f'Processed {total_papers} papers')\n",
    "            # todo: run again and save score, as well as the file name\n",
    "        i += 1\n",
    "    else:\n",
    "        pass"
   ]
  },
  {
   "cell_type": "code",
   "execution_count": null,
   "id": "04cfd60f-8cbd-4410-a0d5-1ae5a7b69e5e",
   "metadata": {},
   "outputs": [],
   "source": [
    "[i for i in paper['article_id']]"
   ]
  },
  {
   "cell_type": "code",
   "execution_count": 55,
   "id": "5c8946a1-5489-4a62-baaf-c69499907fe4",
   "metadata": {},
   "outputs": [
    {
     "name": "stdout",
     "output_type": "stream",
     "text": [
      "9\n"
     ]
    }
   ],
   "source": [
    "print(len(paper['article_id'][:9]))"
   ]
  },
  {
   "cell_type": "code",
   "execution_count": null,
   "id": "5b1cd353-0108-4669-ac8e-05dfbd31c8a1",
   "metadata": {},
   "outputs": [],
   "source": [
    "print(len(clean_indexes[0]))"
   ]
  },
  {
   "cell_type": "code",
   "execution_count": 57,
   "id": "803d93e3-bdf7-486b-956f-0e192f1d558f",
   "metadata": {},
   "outputs": [
    {
     "data": {
      "text/plain": [
       "True"
      ]
     },
     "execution_count": 57,
     "metadata": {},
     "output_type": "execute_result"
    }
   ],
   "source": []
  },
  {
   "cell_type": "code",
   "execution_count": 13,
   "id": "37265678-c877-4faa-bd64-40973948424a",
   "metadata": {},
   "outputs": [
    {
     "ename": "JSONDecodeError",
     "evalue": "Extra data: line 1 column 22346700 (char 22346699)",
     "output_type": "error",
     "traceback": [
      "\u001b[0;31m---------------------------------------------------------------------------\u001b[0m",
      "\u001b[0;31mJSONDecodeError\u001b[0m                           Traceback (most recent call last)",
      "\u001b[0;32m/tmp/ipykernel_4373/993634560.py\u001b[0m in \u001b[0;36m<module>\u001b[0;34m\u001b[0m\n\u001b[1;32m      1\u001b[0m \u001b[0;32mwith\u001b[0m \u001b[0mopen\u001b[0m\u001b[0;34m(\u001b[0m\u001b[0;34m'json_mini_val_set.txt'\u001b[0m\u001b[0;34m)\u001b[0m \u001b[0;32mas\u001b[0m \u001b[0mjson_file\u001b[0m\u001b[0;34m:\u001b[0m\u001b[0;34m\u001b[0m\u001b[0;34m\u001b[0m\u001b[0m\n\u001b[0;32m----> 2\u001b[0;31m     \u001b[0mdata\u001b[0m \u001b[0;34m=\u001b[0m \u001b[0mjson\u001b[0m\u001b[0;34m.\u001b[0m\u001b[0mload\u001b[0m\u001b[0;34m(\u001b[0m\u001b[0mjson_file\u001b[0m\u001b[0;34m)\u001b[0m\u001b[0;34m\u001b[0m\u001b[0;34m\u001b[0m\u001b[0m\n\u001b[0m",
      "\u001b[0;32m/opt/conda/lib/python3.7/json/__init__.py\u001b[0m in \u001b[0;36mload\u001b[0;34m(fp, cls, object_hook, parse_float, parse_int, parse_constant, object_pairs_hook, **kw)\u001b[0m\n\u001b[1;32m    294\u001b[0m         \u001b[0mcls\u001b[0m\u001b[0;34m=\u001b[0m\u001b[0mcls\u001b[0m\u001b[0;34m,\u001b[0m \u001b[0mobject_hook\u001b[0m\u001b[0;34m=\u001b[0m\u001b[0mobject_hook\u001b[0m\u001b[0;34m,\u001b[0m\u001b[0;34m\u001b[0m\u001b[0;34m\u001b[0m\u001b[0m\n\u001b[1;32m    295\u001b[0m         \u001b[0mparse_float\u001b[0m\u001b[0;34m=\u001b[0m\u001b[0mparse_float\u001b[0m\u001b[0;34m,\u001b[0m \u001b[0mparse_int\u001b[0m\u001b[0;34m=\u001b[0m\u001b[0mparse_int\u001b[0m\u001b[0;34m,\u001b[0m\u001b[0;34m\u001b[0m\u001b[0;34m\u001b[0m\u001b[0m\n\u001b[0;32m--> 296\u001b[0;31m         parse_constant=parse_constant, object_pairs_hook=object_pairs_hook, **kw)\n\u001b[0m\u001b[1;32m    297\u001b[0m \u001b[0;34m\u001b[0m\u001b[0m\n\u001b[1;32m    298\u001b[0m \u001b[0;34m\u001b[0m\u001b[0m\n",
      "\u001b[0;32m/opt/conda/lib/python3.7/json/__init__.py\u001b[0m in \u001b[0;36mloads\u001b[0;34m(s, encoding, cls, object_hook, parse_float, parse_int, parse_constant, object_pairs_hook, **kw)\u001b[0m\n\u001b[1;32m    346\u001b[0m             \u001b[0mparse_int\u001b[0m \u001b[0;32mis\u001b[0m \u001b[0;32mNone\u001b[0m \u001b[0;32mand\u001b[0m \u001b[0mparse_float\u001b[0m \u001b[0;32mis\u001b[0m \u001b[0;32mNone\u001b[0m \u001b[0;32mand\u001b[0m\u001b[0;34m\u001b[0m\u001b[0;34m\u001b[0m\u001b[0m\n\u001b[1;32m    347\u001b[0m             parse_constant is None and object_pairs_hook is None and not kw):\n\u001b[0;32m--> 348\u001b[0;31m         \u001b[0;32mreturn\u001b[0m \u001b[0m_default_decoder\u001b[0m\u001b[0;34m.\u001b[0m\u001b[0mdecode\u001b[0m\u001b[0;34m(\u001b[0m\u001b[0ms\u001b[0m\u001b[0;34m)\u001b[0m\u001b[0;34m\u001b[0m\u001b[0;34m\u001b[0m\u001b[0m\n\u001b[0m\u001b[1;32m    349\u001b[0m     \u001b[0;32mif\u001b[0m \u001b[0mcls\u001b[0m \u001b[0;32mis\u001b[0m \u001b[0;32mNone\u001b[0m\u001b[0;34m:\u001b[0m\u001b[0;34m\u001b[0m\u001b[0;34m\u001b[0m\u001b[0m\n\u001b[1;32m    350\u001b[0m         \u001b[0mcls\u001b[0m \u001b[0;34m=\u001b[0m \u001b[0mJSONDecoder\u001b[0m\u001b[0;34m\u001b[0m\u001b[0;34m\u001b[0m\u001b[0m\n",
      "\u001b[0;32m/opt/conda/lib/python3.7/json/decoder.py\u001b[0m in \u001b[0;36mdecode\u001b[0;34m(self, s, _w)\u001b[0m\n\u001b[1;32m    338\u001b[0m         \u001b[0mend\u001b[0m \u001b[0;34m=\u001b[0m \u001b[0m_w\u001b[0m\u001b[0;34m(\u001b[0m\u001b[0ms\u001b[0m\u001b[0;34m,\u001b[0m \u001b[0mend\u001b[0m\u001b[0;34m)\u001b[0m\u001b[0;34m.\u001b[0m\u001b[0mend\u001b[0m\u001b[0;34m(\u001b[0m\u001b[0;34m)\u001b[0m\u001b[0;34m\u001b[0m\u001b[0;34m\u001b[0m\u001b[0m\n\u001b[1;32m    339\u001b[0m         \u001b[0;32mif\u001b[0m \u001b[0mend\u001b[0m \u001b[0;34m!=\u001b[0m \u001b[0mlen\u001b[0m\u001b[0;34m(\u001b[0m\u001b[0ms\u001b[0m\u001b[0;34m)\u001b[0m\u001b[0;34m:\u001b[0m\u001b[0;34m\u001b[0m\u001b[0;34m\u001b[0m\u001b[0m\n\u001b[0;32m--> 340\u001b[0;31m             \u001b[0;32mraise\u001b[0m \u001b[0mJSONDecodeError\u001b[0m\u001b[0;34m(\u001b[0m\u001b[0;34m\"Extra data\"\u001b[0m\u001b[0;34m,\u001b[0m \u001b[0ms\u001b[0m\u001b[0;34m,\u001b[0m \u001b[0mend\u001b[0m\u001b[0;34m)\u001b[0m\u001b[0;34m\u001b[0m\u001b[0;34m\u001b[0m\u001b[0m\n\u001b[0m\u001b[1;32m    341\u001b[0m         \u001b[0;32mreturn\u001b[0m \u001b[0mobj\u001b[0m\u001b[0;34m\u001b[0m\u001b[0;34m\u001b[0m\u001b[0m\n\u001b[1;32m    342\u001b[0m \u001b[0;34m\u001b[0m\u001b[0m\n",
      "\u001b[0;31mJSONDecodeError\u001b[0m: Extra data: line 1 column 22346700 (char 22346699)"
     ]
    }
   ],
   "source": [
    "with open('json_mini_val_set.txt') as json_file:\n",
    "    data = json.load(json_file)"
   ]
  },
  {
   "cell_type": "code",
   "execution_count": null,
   "id": "da8fab1a-95ab-45f3-9a21-fc0a4caac335",
   "metadata": {},
   "outputs": [],
   "source": []
  }
 ],
 "metadata": {
  "environment": {
   "kernel": "python3",
   "name": "pytorch-gpu.1-9.m82",
   "type": "gcloud",
   "uri": "gcr.io/deeplearning-platform-release/pytorch-gpu.1-9:m82"
  },
  "kernelspec": {
   "display_name": "Python 3",
   "language": "python",
   "name": "python3"
  },
  "language_info": {
   "codemirror_mode": {
    "name": "ipython",
    "version": 3
   },
   "file_extension": ".py",
   "mimetype": "text/x-python",
   "name": "python",
   "nbconvert_exporter": "python",
   "pygments_lexer": "ipython3",
   "version": "3.7.10"
  }
 },
 "nbformat": 4,
 "nbformat_minor": 5
}
